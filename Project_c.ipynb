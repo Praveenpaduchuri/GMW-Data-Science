{
  "nbformat": 4,
  "nbformat_minor": 0,
  "metadata": {
    "colab": {
      "provenance": [],
      "authorship_tag": "ABX9TyMynpqEDiM7xW2w2PVF3Rp0",
      "include_colab_link": true
    },
    "kernelspec": {
      "name": "python3",
      "display_name": "Python 3"
    },
    "language_info": {
      "name": "python"
    }
  },
  "cells": [
    {
      "cell_type": "markdown",
      "metadata": {
        "id": "view-in-github",
        "colab_type": "text"
      },
      "source": [
        "<a href=\"https://colab.research.google.com/github/Praveenpaduchuri/GMW-Data-Science/blob/main/Project_c.ipynb\" target=\"_parent\"><img src=\"https://colab.research.google.com/assets/colab-badge.svg\" alt=\"Open In Colab\"/></a>"
      ]
    },
    {
      "cell_type": "markdown",
      "source": [
        "**Exploratory Data Analysis on Terrorism Dataset**"
      ],
      "metadata": {
        "id": "KOGo4lLRnFAi"
      }
    },
    {
      "cell_type": "markdown",
      "source": [
        "Exploratory Data Analysis (EDA) is an approach to analyse the data using visual techniques. It is used to discover trends, patterns, or to check assumptions with the help of statistical summaries and graphical representations. EDA on terrorism dataset is performed to determine the hot zone of terrorism and the relationship between different features is displayed.\n",
        "\n",
        "The global terrorism dataset is downloaded from here"
      ],
      "metadata": {
        "id": "uaq3-0VGnQu0"
      }
    },
    {
      "cell_type": "markdown",
      "source": [
        "**Importing the libraries**"
      ],
      "metadata": {
        "id": "s1uD2FP6nXlv"
      }
    },
    {
      "cell_type": "code",
      "execution_count": 1,
      "metadata": {
        "id": "ue8ixqDFmtgm"
      },
      "outputs": [],
      "source": [
        "import numpy as np\n",
        "import pandas as pd\n",
        "import matplotlib.pyplot as plt\n",
        "import seaborn as sns"
      ]
    },
    {
      "cell_type": "code",
      "source": [
        "import warnings\n",
        "warnings.filterwarnings('ignore')"
      ],
      "metadata": {
        "id": "4Bkt6ghUn2iK"
      },
      "execution_count": 2,
      "outputs": []
    },
    {
      "cell_type": "markdown",
      "source": [
        "Reading the dataset"
      ],
      "metadata": {
        "id": "SWAfpygrn6GE"
      }
    },
    {
      "cell_type": "code",
      "source": [
        "terrorism_df = pd.read_csv('globalterrorismdb_0718dist.csv', encoding='latin-1')"
      ],
      "metadata": {
        "id": "P8RoUXmkn7Fs"
      },
      "execution_count": 7,
      "outputs": []
    },
    {
      "cell_type": "code",
      "source": [
        "terrorism_df.head()"
      ],
      "metadata": {
        "colab": {
          "base_uri": "https://localhost:8080/",
          "height": 317
        },
        "id": "6nkLEFBWozyN",
        "outputId": "549fd752-1021-4a2c-91cb-7a5f9658a89b"
      },
      "execution_count": 8,
      "outputs": [
        {
          "output_type": "execute_result",
          "data": {
            "text/plain": [
              "        eventid  iyear  imonth  iday approxdate  extended resolution  country  \\\n",
              "0  197000000001   1970       7     2        NaN         0        NaN       58   \n",
              "1  197000000002   1970       0     0        NaN         0        NaN      130   \n",
              "2  197001000001   1970       1     0        NaN         0        NaN      160   \n",
              "3  197001000002   1970       1     0        NaN         0        NaN       78   \n",
              "4  197001000003   1970       1     0        NaN         0        NaN      101   \n",
              "\n",
              "          country_txt  region  ... addnotes scite1 scite2  scite3  dbsource  \\\n",
              "0  Dominican Republic       2  ...      NaN    NaN    NaN     NaN      PGIS   \n",
              "1              Mexico       1  ...      NaN    NaN    NaN     NaN      PGIS   \n",
              "2         Philippines       5  ...      NaN    NaN    NaN     NaN      PGIS   \n",
              "3              Greece       8  ...      NaN    NaN    NaN     NaN      PGIS   \n",
              "4               Japan       4  ...      NaN    NaN    NaN     NaN      PGIS   \n",
              "\n",
              "   INT_LOG  INT_IDEO INT_MISC INT_ANY  related  \n",
              "0      0.0       0.0      0.0     0.0      NaN  \n",
              "1      0.0       1.0      1.0     1.0      NaN  \n",
              "2     -9.0      -9.0      1.0     1.0      NaN  \n",
              "3     -9.0      -9.0      1.0     1.0      NaN  \n",
              "4     -9.0      -9.0      1.0     1.0      NaN  \n",
              "\n",
              "[5 rows x 135 columns]"
            ],
            "text/html": [
              "\n",
              "\n",
              "  <div id=\"df-a56ca99e-e0eb-4261-92ba-3529cb29fbbd\">\n",
              "    <div class=\"colab-df-container\">\n",
              "      <div>\n",
              "<style scoped>\n",
              "    .dataframe tbody tr th:only-of-type {\n",
              "        vertical-align: middle;\n",
              "    }\n",
              "\n",
              "    .dataframe tbody tr th {\n",
              "        vertical-align: top;\n",
              "    }\n",
              "\n",
              "    .dataframe thead th {\n",
              "        text-align: right;\n",
              "    }\n",
              "</style>\n",
              "<table border=\"1\" class=\"dataframe\">\n",
              "  <thead>\n",
              "    <tr style=\"text-align: right;\">\n",
              "      <th></th>\n",
              "      <th>eventid</th>\n",
              "      <th>iyear</th>\n",
              "      <th>imonth</th>\n",
              "      <th>iday</th>\n",
              "      <th>approxdate</th>\n",
              "      <th>extended</th>\n",
              "      <th>resolution</th>\n",
              "      <th>country</th>\n",
              "      <th>country_txt</th>\n",
              "      <th>region</th>\n",
              "      <th>...</th>\n",
              "      <th>addnotes</th>\n",
              "      <th>scite1</th>\n",
              "      <th>scite2</th>\n",
              "      <th>scite3</th>\n",
              "      <th>dbsource</th>\n",
              "      <th>INT_LOG</th>\n",
              "      <th>INT_IDEO</th>\n",
              "      <th>INT_MISC</th>\n",
              "      <th>INT_ANY</th>\n",
              "      <th>related</th>\n",
              "    </tr>\n",
              "  </thead>\n",
              "  <tbody>\n",
              "    <tr>\n",
              "      <th>0</th>\n",
              "      <td>197000000001</td>\n",
              "      <td>1970</td>\n",
              "      <td>7</td>\n",
              "      <td>2</td>\n",
              "      <td>NaN</td>\n",
              "      <td>0</td>\n",
              "      <td>NaN</td>\n",
              "      <td>58</td>\n",
              "      <td>Dominican Republic</td>\n",
              "      <td>2</td>\n",
              "      <td>...</td>\n",
              "      <td>NaN</td>\n",
              "      <td>NaN</td>\n",
              "      <td>NaN</td>\n",
              "      <td>NaN</td>\n",
              "      <td>PGIS</td>\n",
              "      <td>0.0</td>\n",
              "      <td>0.0</td>\n",
              "      <td>0.0</td>\n",
              "      <td>0.0</td>\n",
              "      <td>NaN</td>\n",
              "    </tr>\n",
              "    <tr>\n",
              "      <th>1</th>\n",
              "      <td>197000000002</td>\n",
              "      <td>1970</td>\n",
              "      <td>0</td>\n",
              "      <td>0</td>\n",
              "      <td>NaN</td>\n",
              "      <td>0</td>\n",
              "      <td>NaN</td>\n",
              "      <td>130</td>\n",
              "      <td>Mexico</td>\n",
              "      <td>1</td>\n",
              "      <td>...</td>\n",
              "      <td>NaN</td>\n",
              "      <td>NaN</td>\n",
              "      <td>NaN</td>\n",
              "      <td>NaN</td>\n",
              "      <td>PGIS</td>\n",
              "      <td>0.0</td>\n",
              "      <td>1.0</td>\n",
              "      <td>1.0</td>\n",
              "      <td>1.0</td>\n",
              "      <td>NaN</td>\n",
              "    </tr>\n",
              "    <tr>\n",
              "      <th>2</th>\n",
              "      <td>197001000001</td>\n",
              "      <td>1970</td>\n",
              "      <td>1</td>\n",
              "      <td>0</td>\n",
              "      <td>NaN</td>\n",
              "      <td>0</td>\n",
              "      <td>NaN</td>\n",
              "      <td>160</td>\n",
              "      <td>Philippines</td>\n",
              "      <td>5</td>\n",
              "      <td>...</td>\n",
              "      <td>NaN</td>\n",
              "      <td>NaN</td>\n",
              "      <td>NaN</td>\n",
              "      <td>NaN</td>\n",
              "      <td>PGIS</td>\n",
              "      <td>-9.0</td>\n",
              "      <td>-9.0</td>\n",
              "      <td>1.0</td>\n",
              "      <td>1.0</td>\n",
              "      <td>NaN</td>\n",
              "    </tr>\n",
              "    <tr>\n",
              "      <th>3</th>\n",
              "      <td>197001000002</td>\n",
              "      <td>1970</td>\n",
              "      <td>1</td>\n",
              "      <td>0</td>\n",
              "      <td>NaN</td>\n",
              "      <td>0</td>\n",
              "      <td>NaN</td>\n",
              "      <td>78</td>\n",
              "      <td>Greece</td>\n",
              "      <td>8</td>\n",
              "      <td>...</td>\n",
              "      <td>NaN</td>\n",
              "      <td>NaN</td>\n",
              "      <td>NaN</td>\n",
              "      <td>NaN</td>\n",
              "      <td>PGIS</td>\n",
              "      <td>-9.0</td>\n",
              "      <td>-9.0</td>\n",
              "      <td>1.0</td>\n",
              "      <td>1.0</td>\n",
              "      <td>NaN</td>\n",
              "    </tr>\n",
              "    <tr>\n",
              "      <th>4</th>\n",
              "      <td>197001000003</td>\n",
              "      <td>1970</td>\n",
              "      <td>1</td>\n",
              "      <td>0</td>\n",
              "      <td>NaN</td>\n",
              "      <td>0</td>\n",
              "      <td>NaN</td>\n",
              "      <td>101</td>\n",
              "      <td>Japan</td>\n",
              "      <td>4</td>\n",
              "      <td>...</td>\n",
              "      <td>NaN</td>\n",
              "      <td>NaN</td>\n",
              "      <td>NaN</td>\n",
              "      <td>NaN</td>\n",
              "      <td>PGIS</td>\n",
              "      <td>-9.0</td>\n",
              "      <td>-9.0</td>\n",
              "      <td>1.0</td>\n",
              "      <td>1.0</td>\n",
              "      <td>NaN</td>\n",
              "    </tr>\n",
              "  </tbody>\n",
              "</table>\n",
              "<p>5 rows × 135 columns</p>\n",
              "</div>\n",
              "      <button class=\"colab-df-convert\" onclick=\"convertToInteractive('df-a56ca99e-e0eb-4261-92ba-3529cb29fbbd')\"\n",
              "              title=\"Convert this dataframe to an interactive table.\"\n",
              "              style=\"display:none;\">\n",
              "\n",
              "  <svg xmlns=\"http://www.w3.org/2000/svg\" height=\"24px\"viewBox=\"0 0 24 24\"\n",
              "       width=\"24px\">\n",
              "    <path d=\"M0 0h24v24H0V0z\" fill=\"none\"/>\n",
              "    <path d=\"M18.56 5.44l.94 2.06.94-2.06 2.06-.94-2.06-.94-.94-2.06-.94 2.06-2.06.94zm-11 1L8.5 8.5l.94-2.06 2.06-.94-2.06-.94L8.5 2.5l-.94 2.06-2.06.94zm10 10l.94 2.06.94-2.06 2.06-.94-2.06-.94-.94-2.06-.94 2.06-2.06.94z\"/><path d=\"M17.41 7.96l-1.37-1.37c-.4-.4-.92-.59-1.43-.59-.52 0-1.04.2-1.43.59L10.3 9.45l-7.72 7.72c-.78.78-.78 2.05 0 2.83L4 21.41c.39.39.9.59 1.41.59.51 0 1.02-.2 1.41-.59l7.78-7.78 2.81-2.81c.8-.78.8-2.07 0-2.86zM5.41 20L4 18.59l7.72-7.72 1.47 1.35L5.41 20z\"/>\n",
              "  </svg>\n",
              "      </button>\n",
              "\n",
              "\n",
              "\n",
              "    <div id=\"df-b55ce8c9-f826-49dd-94c9-6d0db0ce6667\">\n",
              "      <button class=\"colab-df-quickchart\" onclick=\"quickchart('df-b55ce8c9-f826-49dd-94c9-6d0db0ce6667')\"\n",
              "              title=\"Suggest charts.\"\n",
              "              style=\"display:none;\">\n",
              "\n",
              "<svg xmlns=\"http://www.w3.org/2000/svg\" height=\"24px\"viewBox=\"0 0 24 24\"\n",
              "     width=\"24px\">\n",
              "    <g>\n",
              "        <path d=\"M19 3H5c-1.1 0-2 .9-2 2v14c0 1.1.9 2 2 2h14c1.1 0 2-.9 2-2V5c0-1.1-.9-2-2-2zM9 17H7v-7h2v7zm4 0h-2V7h2v10zm4 0h-2v-4h2v4z\"/>\n",
              "    </g>\n",
              "</svg>\n",
              "      </button>\n",
              "    </div>\n",
              "\n",
              "<style>\n",
              "  .colab-df-quickchart {\n",
              "    background-color: #E8F0FE;\n",
              "    border: none;\n",
              "    border-radius: 50%;\n",
              "    cursor: pointer;\n",
              "    display: none;\n",
              "    fill: #1967D2;\n",
              "    height: 32px;\n",
              "    padding: 0 0 0 0;\n",
              "    width: 32px;\n",
              "  }\n",
              "\n",
              "  .colab-df-quickchart:hover {\n",
              "    background-color: #E2EBFA;\n",
              "    box-shadow: 0px 1px 2px rgba(60, 64, 67, 0.3), 0px 1px 3px 1px rgba(60, 64, 67, 0.15);\n",
              "    fill: #174EA6;\n",
              "  }\n",
              "\n",
              "  [theme=dark] .colab-df-quickchart {\n",
              "    background-color: #3B4455;\n",
              "    fill: #D2E3FC;\n",
              "  }\n",
              "\n",
              "  [theme=dark] .colab-df-quickchart:hover {\n",
              "    background-color: #434B5C;\n",
              "    box-shadow: 0px 1px 3px 1px rgba(0, 0, 0, 0.15);\n",
              "    filter: drop-shadow(0px 1px 2px rgba(0, 0, 0, 0.3));\n",
              "    fill: #FFFFFF;\n",
              "  }\n",
              "</style>\n",
              "\n",
              "    <script>\n",
              "      async function quickchart(key) {\n",
              "        const containerElement = document.querySelector('#' + key);\n",
              "        const charts = await google.colab.kernel.invokeFunction(\n",
              "            'suggestCharts', [key], {});\n",
              "      }\n",
              "    </script>\n",
              "\n",
              "      <script>\n",
              "\n",
              "function displayQuickchartButton(domScope) {\n",
              "  let quickchartButtonEl =\n",
              "    domScope.querySelector('#df-b55ce8c9-f826-49dd-94c9-6d0db0ce6667 button.colab-df-quickchart');\n",
              "  quickchartButtonEl.style.display =\n",
              "    google.colab.kernel.accessAllowed ? 'block' : 'none';\n",
              "}\n",
              "\n",
              "        displayQuickchartButton(document);\n",
              "      </script>\n",
              "      <style>\n",
              "    .colab-df-container {\n",
              "      display:flex;\n",
              "      flex-wrap:wrap;\n",
              "      gap: 12px;\n",
              "    }\n",
              "\n",
              "    .colab-df-convert {\n",
              "      background-color: #E8F0FE;\n",
              "      border: none;\n",
              "      border-radius: 50%;\n",
              "      cursor: pointer;\n",
              "      display: none;\n",
              "      fill: #1967D2;\n",
              "      height: 32px;\n",
              "      padding: 0 0 0 0;\n",
              "      width: 32px;\n",
              "    }\n",
              "\n",
              "    .colab-df-convert:hover {\n",
              "      background-color: #E2EBFA;\n",
              "      box-shadow: 0px 1px 2px rgba(60, 64, 67, 0.3), 0px 1px 3px 1px rgba(60, 64, 67, 0.15);\n",
              "      fill: #174EA6;\n",
              "    }\n",
              "\n",
              "    [theme=dark] .colab-df-convert {\n",
              "      background-color: #3B4455;\n",
              "      fill: #D2E3FC;\n",
              "    }\n",
              "\n",
              "    [theme=dark] .colab-df-convert:hover {\n",
              "      background-color: #434B5C;\n",
              "      box-shadow: 0px 1px 3px 1px rgba(0, 0, 0, 0.15);\n",
              "      filter: drop-shadow(0px 1px 2px rgba(0, 0, 0, 0.3));\n",
              "      fill: #FFFFFF;\n",
              "    }\n",
              "  </style>\n",
              "\n",
              "      <script>\n",
              "        const buttonEl =\n",
              "          document.querySelector('#df-a56ca99e-e0eb-4261-92ba-3529cb29fbbd button.colab-df-convert');\n",
              "        buttonEl.style.display =\n",
              "          google.colab.kernel.accessAllowed ? 'block' : 'none';\n",
              "\n",
              "        async function convertToInteractive(key) {\n",
              "          const element = document.querySelector('#df-a56ca99e-e0eb-4261-92ba-3529cb29fbbd');\n",
              "          const dataTable =\n",
              "            await google.colab.kernel.invokeFunction('convertToInteractive',\n",
              "                                                     [key], {});\n",
              "          if (!dataTable) return;\n",
              "\n",
              "          const docLinkHtml = 'Like what you see? Visit the ' +\n",
              "            '<a target=\"_blank\" href=https://colab.research.google.com/notebooks/data_table.ipynb>data table notebook</a>'\n",
              "            + ' to learn more about interactive tables.';\n",
              "          element.innerHTML = '';\n",
              "          dataTable['output_type'] = 'display_data';\n",
              "          await google.colab.output.renderOutput(dataTable, element);\n",
              "          const docLink = document.createElement('div');\n",
              "          docLink.innerHTML = docLinkHtml;\n",
              "          element.appendChild(docLink);\n",
              "        }\n",
              "      </script>\n",
              "    </div>\n",
              "  </div>\n"
            ]
          },
          "metadata": {},
          "execution_count": 8
        }
      ]
    },
    {
      "cell_type": "code",
      "source": [
        "print(\"There are {} rows and {} columns in the dataset\".format(terrorism_df.shape[0],terrorism_df.shape[1]))"
      ],
      "metadata": {
        "colab": {
          "base_uri": "https://localhost:8080/"
        },
        "id": "1EDS91IPpAoC",
        "outputId": "c832f7c3-6c87-4bf4-d30f-bf783873e552"
      },
      "execution_count": 9,
      "outputs": [
        {
          "output_type": "stream",
          "name": "stdout",
          "text": [
            "There are 7316 rows and 135 columns in the dataset\n"
          ]
        }
      ]
    },
    {
      "cell_type": "code",
      "source": [
        "terrorism_df.columns"
      ],
      "metadata": {
        "colab": {
          "base_uri": "https://localhost:8080/"
        },
        "id": "E2H7f-fRpH-R",
        "outputId": "940e5f2f-c1aa-4de2-a2b7-5c864003a608"
      },
      "execution_count": 10,
      "outputs": [
        {
          "output_type": "execute_result",
          "data": {
            "text/plain": [
              "Index(['eventid', 'iyear', 'imonth', 'iday', 'approxdate', 'extended',\n",
              "       'resolution', 'country', 'country_txt', 'region',\n",
              "       ...\n",
              "       'addnotes', 'scite1', 'scite2', 'scite3', 'dbsource', 'INT_LOG',\n",
              "       'INT_IDEO', 'INT_MISC', 'INT_ANY', 'related'],\n",
              "      dtype='object', length=135)"
            ]
          },
          "metadata": {},
          "execution_count": 10
        }
      ]
    },
    {
      "cell_type": "markdown",
      "source": [
        "Checking the uniqueness of the columns of the dataset"
      ],
      "metadata": {
        "id": "8wTL3H_0pMU3"
      }
    },
    {
      "cell_type": "code",
      "source": [
        "No_of_cols=terrorism_df.columns.nunique()\n",
        "print(\"There are total %d columns in the data\"%No_of_cols)"
      ],
      "metadata": {
        "colab": {
          "base_uri": "https://localhost:8080/"
        },
        "id": "wEM_VBGVpNpx",
        "outputId": "6c4b0af9-a69d-457d-dbfa-b3c246f60882"
      },
      "execution_count": 11,
      "outputs": [
        {
          "output_type": "stream",
          "name": "stdout",
          "text": [
            "There are total 135 columns in the data\n"
          ]
        }
      ]
    },
    {
      "cell_type": "markdown",
      "source": [
        "Renaming the columns we are going to use for our analysis"
      ],
      "metadata": {
        "id": "NUUjt7KkpVQs"
      }
    },
    {
      "cell_type": "code",
      "source": [
        "terrorism_df=terrorism_df.rename(columns={'iyear':'Year','imonth':'Month','iday':'Day','country_txt':'Country','region_txt':'Region',\n",
        "                             'provstate':'State','city':'City','attacktype1_txt':'Attack_type','targtype1_txt':'Target_type',\n",
        "                             'targsubtype1_txt':'Target_subtype','gname':'Gang_name','weaptype1_txt':'Weapon_type'})"
      ],
      "metadata": {
        "id": "_V34LcF6pWNO"
      },
      "execution_count": 12,
      "outputs": []
    },
    {
      "cell_type": "code",
      "source": [
        "terrorism_df.head()"
      ],
      "metadata": {
        "colab": {
          "base_uri": "https://localhost:8080/",
          "height": 317
        },
        "id": "zqtzhG1epcK7",
        "outputId": "c1055e07-a5b4-49d6-ad6a-9927dde1e08b"
      },
      "execution_count": 13,
      "outputs": [
        {
          "output_type": "execute_result",
          "data": {
            "text/plain": [
              "        eventid  Year  Month  Day approxdate  extended resolution  country  \\\n",
              "0  197000000001  1970      7    2        NaN         0        NaN       58   \n",
              "1  197000000002  1970      0    0        NaN         0        NaN      130   \n",
              "2  197001000001  1970      1    0        NaN         0        NaN      160   \n",
              "3  197001000002  1970      1    0        NaN         0        NaN       78   \n",
              "4  197001000003  1970      1    0        NaN         0        NaN      101   \n",
              "\n",
              "              Country  region  ... addnotes scite1 scite2  scite3  dbsource  \\\n",
              "0  Dominican Republic       2  ...      NaN    NaN    NaN     NaN      PGIS   \n",
              "1              Mexico       1  ...      NaN    NaN    NaN     NaN      PGIS   \n",
              "2         Philippines       5  ...      NaN    NaN    NaN     NaN      PGIS   \n",
              "3              Greece       8  ...      NaN    NaN    NaN     NaN      PGIS   \n",
              "4               Japan       4  ...      NaN    NaN    NaN     NaN      PGIS   \n",
              "\n",
              "   INT_LOG  INT_IDEO INT_MISC INT_ANY  related  \n",
              "0      0.0       0.0      0.0     0.0      NaN  \n",
              "1      0.0       1.0      1.0     1.0      NaN  \n",
              "2     -9.0      -9.0      1.0     1.0      NaN  \n",
              "3     -9.0      -9.0      1.0     1.0      NaN  \n",
              "4     -9.0      -9.0      1.0     1.0      NaN  \n",
              "\n",
              "[5 rows x 135 columns]"
            ],
            "text/html": [
              "\n",
              "\n",
              "  <div id=\"df-d42d5fc1-3c2e-47b0-8547-df978c9dc976\">\n",
              "    <div class=\"colab-df-container\">\n",
              "      <div>\n",
              "<style scoped>\n",
              "    .dataframe tbody tr th:only-of-type {\n",
              "        vertical-align: middle;\n",
              "    }\n",
              "\n",
              "    .dataframe tbody tr th {\n",
              "        vertical-align: top;\n",
              "    }\n",
              "\n",
              "    .dataframe thead th {\n",
              "        text-align: right;\n",
              "    }\n",
              "</style>\n",
              "<table border=\"1\" class=\"dataframe\">\n",
              "  <thead>\n",
              "    <tr style=\"text-align: right;\">\n",
              "      <th></th>\n",
              "      <th>eventid</th>\n",
              "      <th>Year</th>\n",
              "      <th>Month</th>\n",
              "      <th>Day</th>\n",
              "      <th>approxdate</th>\n",
              "      <th>extended</th>\n",
              "      <th>resolution</th>\n",
              "      <th>country</th>\n",
              "      <th>Country</th>\n",
              "      <th>region</th>\n",
              "      <th>...</th>\n",
              "      <th>addnotes</th>\n",
              "      <th>scite1</th>\n",
              "      <th>scite2</th>\n",
              "      <th>scite3</th>\n",
              "      <th>dbsource</th>\n",
              "      <th>INT_LOG</th>\n",
              "      <th>INT_IDEO</th>\n",
              "      <th>INT_MISC</th>\n",
              "      <th>INT_ANY</th>\n",
              "      <th>related</th>\n",
              "    </tr>\n",
              "  </thead>\n",
              "  <tbody>\n",
              "    <tr>\n",
              "      <th>0</th>\n",
              "      <td>197000000001</td>\n",
              "      <td>1970</td>\n",
              "      <td>7</td>\n",
              "      <td>2</td>\n",
              "      <td>NaN</td>\n",
              "      <td>0</td>\n",
              "      <td>NaN</td>\n",
              "      <td>58</td>\n",
              "      <td>Dominican Republic</td>\n",
              "      <td>2</td>\n",
              "      <td>...</td>\n",
              "      <td>NaN</td>\n",
              "      <td>NaN</td>\n",
              "      <td>NaN</td>\n",
              "      <td>NaN</td>\n",
              "      <td>PGIS</td>\n",
              "      <td>0.0</td>\n",
              "      <td>0.0</td>\n",
              "      <td>0.0</td>\n",
              "      <td>0.0</td>\n",
              "      <td>NaN</td>\n",
              "    </tr>\n",
              "    <tr>\n",
              "      <th>1</th>\n",
              "      <td>197000000002</td>\n",
              "      <td>1970</td>\n",
              "      <td>0</td>\n",
              "      <td>0</td>\n",
              "      <td>NaN</td>\n",
              "      <td>0</td>\n",
              "      <td>NaN</td>\n",
              "      <td>130</td>\n",
              "      <td>Mexico</td>\n",
              "      <td>1</td>\n",
              "      <td>...</td>\n",
              "      <td>NaN</td>\n",
              "      <td>NaN</td>\n",
              "      <td>NaN</td>\n",
              "      <td>NaN</td>\n",
              "      <td>PGIS</td>\n",
              "      <td>0.0</td>\n",
              "      <td>1.0</td>\n",
              "      <td>1.0</td>\n",
              "      <td>1.0</td>\n",
              "      <td>NaN</td>\n",
              "    </tr>\n",
              "    <tr>\n",
              "      <th>2</th>\n",
              "      <td>197001000001</td>\n",
              "      <td>1970</td>\n",
              "      <td>1</td>\n",
              "      <td>0</td>\n",
              "      <td>NaN</td>\n",
              "      <td>0</td>\n",
              "      <td>NaN</td>\n",
              "      <td>160</td>\n",
              "      <td>Philippines</td>\n",
              "      <td>5</td>\n",
              "      <td>...</td>\n",
              "      <td>NaN</td>\n",
              "      <td>NaN</td>\n",
              "      <td>NaN</td>\n",
              "      <td>NaN</td>\n",
              "      <td>PGIS</td>\n",
              "      <td>-9.0</td>\n",
              "      <td>-9.0</td>\n",
              "      <td>1.0</td>\n",
              "      <td>1.0</td>\n",
              "      <td>NaN</td>\n",
              "    </tr>\n",
              "    <tr>\n",
              "      <th>3</th>\n",
              "      <td>197001000002</td>\n",
              "      <td>1970</td>\n",
              "      <td>1</td>\n",
              "      <td>0</td>\n",
              "      <td>NaN</td>\n",
              "      <td>0</td>\n",
              "      <td>NaN</td>\n",
              "      <td>78</td>\n",
              "      <td>Greece</td>\n",
              "      <td>8</td>\n",
              "      <td>...</td>\n",
              "      <td>NaN</td>\n",
              "      <td>NaN</td>\n",
              "      <td>NaN</td>\n",
              "      <td>NaN</td>\n",
              "      <td>PGIS</td>\n",
              "      <td>-9.0</td>\n",
              "      <td>-9.0</td>\n",
              "      <td>1.0</td>\n",
              "      <td>1.0</td>\n",
              "      <td>NaN</td>\n",
              "    </tr>\n",
              "    <tr>\n",
              "      <th>4</th>\n",
              "      <td>197001000003</td>\n",
              "      <td>1970</td>\n",
              "      <td>1</td>\n",
              "      <td>0</td>\n",
              "      <td>NaN</td>\n",
              "      <td>0</td>\n",
              "      <td>NaN</td>\n",
              "      <td>101</td>\n",
              "      <td>Japan</td>\n",
              "      <td>4</td>\n",
              "      <td>...</td>\n",
              "      <td>NaN</td>\n",
              "      <td>NaN</td>\n",
              "      <td>NaN</td>\n",
              "      <td>NaN</td>\n",
              "      <td>PGIS</td>\n",
              "      <td>-9.0</td>\n",
              "      <td>-9.0</td>\n",
              "      <td>1.0</td>\n",
              "      <td>1.0</td>\n",
              "      <td>NaN</td>\n",
              "    </tr>\n",
              "  </tbody>\n",
              "</table>\n",
              "<p>5 rows × 135 columns</p>\n",
              "</div>\n",
              "      <button class=\"colab-df-convert\" onclick=\"convertToInteractive('df-d42d5fc1-3c2e-47b0-8547-df978c9dc976')\"\n",
              "              title=\"Convert this dataframe to an interactive table.\"\n",
              "              style=\"display:none;\">\n",
              "\n",
              "  <svg xmlns=\"http://www.w3.org/2000/svg\" height=\"24px\"viewBox=\"0 0 24 24\"\n",
              "       width=\"24px\">\n",
              "    <path d=\"M0 0h24v24H0V0z\" fill=\"none\"/>\n",
              "    <path d=\"M18.56 5.44l.94 2.06.94-2.06 2.06-.94-2.06-.94-.94-2.06-.94 2.06-2.06.94zm-11 1L8.5 8.5l.94-2.06 2.06-.94-2.06-.94L8.5 2.5l-.94 2.06-2.06.94zm10 10l.94 2.06.94-2.06 2.06-.94-2.06-.94-.94-2.06-.94 2.06-2.06.94z\"/><path d=\"M17.41 7.96l-1.37-1.37c-.4-.4-.92-.59-1.43-.59-.52 0-1.04.2-1.43.59L10.3 9.45l-7.72 7.72c-.78.78-.78 2.05 0 2.83L4 21.41c.39.39.9.59 1.41.59.51 0 1.02-.2 1.41-.59l7.78-7.78 2.81-2.81c.8-.78.8-2.07 0-2.86zM5.41 20L4 18.59l7.72-7.72 1.47 1.35L5.41 20z\"/>\n",
              "  </svg>\n",
              "      </button>\n",
              "\n",
              "\n",
              "\n",
              "    <div id=\"df-a44a7f8c-5bd0-4195-b6c3-f09a99127fb7\">\n",
              "      <button class=\"colab-df-quickchart\" onclick=\"quickchart('df-a44a7f8c-5bd0-4195-b6c3-f09a99127fb7')\"\n",
              "              title=\"Suggest charts.\"\n",
              "              style=\"display:none;\">\n",
              "\n",
              "<svg xmlns=\"http://www.w3.org/2000/svg\" height=\"24px\"viewBox=\"0 0 24 24\"\n",
              "     width=\"24px\">\n",
              "    <g>\n",
              "        <path d=\"M19 3H5c-1.1 0-2 .9-2 2v14c0 1.1.9 2 2 2h14c1.1 0 2-.9 2-2V5c0-1.1-.9-2-2-2zM9 17H7v-7h2v7zm4 0h-2V7h2v10zm4 0h-2v-4h2v4z\"/>\n",
              "    </g>\n",
              "</svg>\n",
              "      </button>\n",
              "    </div>\n",
              "\n",
              "<style>\n",
              "  .colab-df-quickchart {\n",
              "    background-color: #E8F0FE;\n",
              "    border: none;\n",
              "    border-radius: 50%;\n",
              "    cursor: pointer;\n",
              "    display: none;\n",
              "    fill: #1967D2;\n",
              "    height: 32px;\n",
              "    padding: 0 0 0 0;\n",
              "    width: 32px;\n",
              "  }\n",
              "\n",
              "  .colab-df-quickchart:hover {\n",
              "    background-color: #E2EBFA;\n",
              "    box-shadow: 0px 1px 2px rgba(60, 64, 67, 0.3), 0px 1px 3px 1px rgba(60, 64, 67, 0.15);\n",
              "    fill: #174EA6;\n",
              "  }\n",
              "\n",
              "  [theme=dark] .colab-df-quickchart {\n",
              "    background-color: #3B4455;\n",
              "    fill: #D2E3FC;\n",
              "  }\n",
              "\n",
              "  [theme=dark] .colab-df-quickchart:hover {\n",
              "    background-color: #434B5C;\n",
              "    box-shadow: 0px 1px 3px 1px rgba(0, 0, 0, 0.15);\n",
              "    filter: drop-shadow(0px 1px 2px rgba(0, 0, 0, 0.3));\n",
              "    fill: #FFFFFF;\n",
              "  }\n",
              "</style>\n",
              "\n",
              "    <script>\n",
              "      async function quickchart(key) {\n",
              "        const containerElement = document.querySelector('#' + key);\n",
              "        const charts = await google.colab.kernel.invokeFunction(\n",
              "            'suggestCharts', [key], {});\n",
              "      }\n",
              "    </script>\n",
              "\n",
              "      <script>\n",
              "\n",
              "function displayQuickchartButton(domScope) {\n",
              "  let quickchartButtonEl =\n",
              "    domScope.querySelector('#df-a44a7f8c-5bd0-4195-b6c3-f09a99127fb7 button.colab-df-quickchart');\n",
              "  quickchartButtonEl.style.display =\n",
              "    google.colab.kernel.accessAllowed ? 'block' : 'none';\n",
              "}\n",
              "\n",
              "        displayQuickchartButton(document);\n",
              "      </script>\n",
              "      <style>\n",
              "    .colab-df-container {\n",
              "      display:flex;\n",
              "      flex-wrap:wrap;\n",
              "      gap: 12px;\n",
              "    }\n",
              "\n",
              "    .colab-df-convert {\n",
              "      background-color: #E8F0FE;\n",
              "      border: none;\n",
              "      border-radius: 50%;\n",
              "      cursor: pointer;\n",
              "      display: none;\n",
              "      fill: #1967D2;\n",
              "      height: 32px;\n",
              "      padding: 0 0 0 0;\n",
              "      width: 32px;\n",
              "    }\n",
              "\n",
              "    .colab-df-convert:hover {\n",
              "      background-color: #E2EBFA;\n",
              "      box-shadow: 0px 1px 2px rgba(60, 64, 67, 0.3), 0px 1px 3px 1px rgba(60, 64, 67, 0.15);\n",
              "      fill: #174EA6;\n",
              "    }\n",
              "\n",
              "    [theme=dark] .colab-df-convert {\n",
              "      background-color: #3B4455;\n",
              "      fill: #D2E3FC;\n",
              "    }\n",
              "\n",
              "    [theme=dark] .colab-df-convert:hover {\n",
              "      background-color: #434B5C;\n",
              "      box-shadow: 0px 1px 3px 1px rgba(0, 0, 0, 0.15);\n",
              "      filter: drop-shadow(0px 1px 2px rgba(0, 0, 0, 0.3));\n",
              "      fill: #FFFFFF;\n",
              "    }\n",
              "  </style>\n",
              "\n",
              "      <script>\n",
              "        const buttonEl =\n",
              "          document.querySelector('#df-d42d5fc1-3c2e-47b0-8547-df978c9dc976 button.colab-df-convert');\n",
              "        buttonEl.style.display =\n",
              "          google.colab.kernel.accessAllowed ? 'block' : 'none';\n",
              "\n",
              "        async function convertToInteractive(key) {\n",
              "          const element = document.querySelector('#df-d42d5fc1-3c2e-47b0-8547-df978c9dc976');\n",
              "          const dataTable =\n",
              "            await google.colab.kernel.invokeFunction('convertToInteractive',\n",
              "                                                     [key], {});\n",
              "          if (!dataTable) return;\n",
              "\n",
              "          const docLinkHtml = 'Like what you see? Visit the ' +\n",
              "            '<a target=\"_blank\" href=https://colab.research.google.com/notebooks/data_table.ipynb>data table notebook</a>'\n",
              "            + ' to learn more about interactive tables.';\n",
              "          element.innerHTML = '';\n",
              "          dataTable['output_type'] = 'display_data';\n",
              "          await google.colab.output.renderOutput(dataTable, element);\n",
              "          const docLink = document.createElement('div');\n",
              "          docLink.innerHTML = docLinkHtml;\n",
              "          element.appendChild(docLink);\n",
              "        }\n",
              "      </script>\n",
              "    </div>\n",
              "  </div>\n"
            ]
          },
          "metadata": {},
          "execution_count": 13
        }
      ]
    },
    {
      "cell_type": "markdown",
      "source": [
        "Selecting only those columns which are actually required"
      ],
      "metadata": {
        "id": "Ewa5vZSgpgeq"
      }
    },
    {
      "cell_type": "code",
      "source": [
        "terrorism_df=terrorism_df[['Year','Month','Day','Country','Region','State','City','Attack_type','Target_type','Target_subtype','Gang_name','Weapon_type']]"
      ],
      "metadata": {
        "id": "BPsa2pUfphr8"
      },
      "execution_count": 21,
      "outputs": []
    },
    {
      "cell_type": "code",
      "source": [
        "terrorism_df.head()"
      ],
      "metadata": {
        "colab": {
          "base_uri": "https://localhost:8080/",
          "height": 317
        },
        "id": "mzl18LDRpnD_",
        "outputId": "b5ad3c2b-487f-42bd-dfd1-9fc9131e2f72"
      },
      "execution_count": 15,
      "outputs": [
        {
          "output_type": "execute_result",
          "data": {
            "text/plain": [
              "        eventid  Year  Month  Day approxdate  extended resolution  country  \\\n",
              "0  197000000001  1970      7    2        NaN         0        NaN       58   \n",
              "1  197000000002  1970      0    0        NaN         0        NaN      130   \n",
              "2  197001000001  1970      1    0        NaN         0        NaN      160   \n",
              "3  197001000002  1970      1    0        NaN         0        NaN       78   \n",
              "4  197001000003  1970      1    0        NaN         0        NaN      101   \n",
              "\n",
              "              Country  region  ... addnotes scite1 scite2  scite3  dbsource  \\\n",
              "0  Dominican Republic       2  ...      NaN    NaN    NaN     NaN      PGIS   \n",
              "1              Mexico       1  ...      NaN    NaN    NaN     NaN      PGIS   \n",
              "2         Philippines       5  ...      NaN    NaN    NaN     NaN      PGIS   \n",
              "3              Greece       8  ...      NaN    NaN    NaN     NaN      PGIS   \n",
              "4               Japan       4  ...      NaN    NaN    NaN     NaN      PGIS   \n",
              "\n",
              "   INT_LOG  INT_IDEO INT_MISC INT_ANY  related  \n",
              "0      0.0       0.0      0.0     0.0      NaN  \n",
              "1      0.0       1.0      1.0     1.0      NaN  \n",
              "2     -9.0      -9.0      1.0     1.0      NaN  \n",
              "3     -9.0      -9.0      1.0     1.0      NaN  \n",
              "4     -9.0      -9.0      1.0     1.0      NaN  \n",
              "\n",
              "[5 rows x 135 columns]"
            ],
            "text/html": [
              "\n",
              "\n",
              "  <div id=\"df-776e8134-1536-4466-8867-1ae53caf271d\">\n",
              "    <div class=\"colab-df-container\">\n",
              "      <div>\n",
              "<style scoped>\n",
              "    .dataframe tbody tr th:only-of-type {\n",
              "        vertical-align: middle;\n",
              "    }\n",
              "\n",
              "    .dataframe tbody tr th {\n",
              "        vertical-align: top;\n",
              "    }\n",
              "\n",
              "    .dataframe thead th {\n",
              "        text-align: right;\n",
              "    }\n",
              "</style>\n",
              "<table border=\"1\" class=\"dataframe\">\n",
              "  <thead>\n",
              "    <tr style=\"text-align: right;\">\n",
              "      <th></th>\n",
              "      <th>eventid</th>\n",
              "      <th>Year</th>\n",
              "      <th>Month</th>\n",
              "      <th>Day</th>\n",
              "      <th>approxdate</th>\n",
              "      <th>extended</th>\n",
              "      <th>resolution</th>\n",
              "      <th>country</th>\n",
              "      <th>Country</th>\n",
              "      <th>region</th>\n",
              "      <th>...</th>\n",
              "      <th>addnotes</th>\n",
              "      <th>scite1</th>\n",
              "      <th>scite2</th>\n",
              "      <th>scite3</th>\n",
              "      <th>dbsource</th>\n",
              "      <th>INT_LOG</th>\n",
              "      <th>INT_IDEO</th>\n",
              "      <th>INT_MISC</th>\n",
              "      <th>INT_ANY</th>\n",
              "      <th>related</th>\n",
              "    </tr>\n",
              "  </thead>\n",
              "  <tbody>\n",
              "    <tr>\n",
              "      <th>0</th>\n",
              "      <td>197000000001</td>\n",
              "      <td>1970</td>\n",
              "      <td>7</td>\n",
              "      <td>2</td>\n",
              "      <td>NaN</td>\n",
              "      <td>0</td>\n",
              "      <td>NaN</td>\n",
              "      <td>58</td>\n",
              "      <td>Dominican Republic</td>\n",
              "      <td>2</td>\n",
              "      <td>...</td>\n",
              "      <td>NaN</td>\n",
              "      <td>NaN</td>\n",
              "      <td>NaN</td>\n",
              "      <td>NaN</td>\n",
              "      <td>PGIS</td>\n",
              "      <td>0.0</td>\n",
              "      <td>0.0</td>\n",
              "      <td>0.0</td>\n",
              "      <td>0.0</td>\n",
              "      <td>NaN</td>\n",
              "    </tr>\n",
              "    <tr>\n",
              "      <th>1</th>\n",
              "      <td>197000000002</td>\n",
              "      <td>1970</td>\n",
              "      <td>0</td>\n",
              "      <td>0</td>\n",
              "      <td>NaN</td>\n",
              "      <td>0</td>\n",
              "      <td>NaN</td>\n",
              "      <td>130</td>\n",
              "      <td>Mexico</td>\n",
              "      <td>1</td>\n",
              "      <td>...</td>\n",
              "      <td>NaN</td>\n",
              "      <td>NaN</td>\n",
              "      <td>NaN</td>\n",
              "      <td>NaN</td>\n",
              "      <td>PGIS</td>\n",
              "      <td>0.0</td>\n",
              "      <td>1.0</td>\n",
              "      <td>1.0</td>\n",
              "      <td>1.0</td>\n",
              "      <td>NaN</td>\n",
              "    </tr>\n",
              "    <tr>\n",
              "      <th>2</th>\n",
              "      <td>197001000001</td>\n",
              "      <td>1970</td>\n",
              "      <td>1</td>\n",
              "      <td>0</td>\n",
              "      <td>NaN</td>\n",
              "      <td>0</td>\n",
              "      <td>NaN</td>\n",
              "      <td>160</td>\n",
              "      <td>Philippines</td>\n",
              "      <td>5</td>\n",
              "      <td>...</td>\n",
              "      <td>NaN</td>\n",
              "      <td>NaN</td>\n",
              "      <td>NaN</td>\n",
              "      <td>NaN</td>\n",
              "      <td>PGIS</td>\n",
              "      <td>-9.0</td>\n",
              "      <td>-9.0</td>\n",
              "      <td>1.0</td>\n",
              "      <td>1.0</td>\n",
              "      <td>NaN</td>\n",
              "    </tr>\n",
              "    <tr>\n",
              "      <th>3</th>\n",
              "      <td>197001000002</td>\n",
              "      <td>1970</td>\n",
              "      <td>1</td>\n",
              "      <td>0</td>\n",
              "      <td>NaN</td>\n",
              "      <td>0</td>\n",
              "      <td>NaN</td>\n",
              "      <td>78</td>\n",
              "      <td>Greece</td>\n",
              "      <td>8</td>\n",
              "      <td>...</td>\n",
              "      <td>NaN</td>\n",
              "      <td>NaN</td>\n",
              "      <td>NaN</td>\n",
              "      <td>NaN</td>\n",
              "      <td>PGIS</td>\n",
              "      <td>-9.0</td>\n",
              "      <td>-9.0</td>\n",
              "      <td>1.0</td>\n",
              "      <td>1.0</td>\n",
              "      <td>NaN</td>\n",
              "    </tr>\n",
              "    <tr>\n",
              "      <th>4</th>\n",
              "      <td>197001000003</td>\n",
              "      <td>1970</td>\n",
              "      <td>1</td>\n",
              "      <td>0</td>\n",
              "      <td>NaN</td>\n",
              "      <td>0</td>\n",
              "      <td>NaN</td>\n",
              "      <td>101</td>\n",
              "      <td>Japan</td>\n",
              "      <td>4</td>\n",
              "      <td>...</td>\n",
              "      <td>NaN</td>\n",
              "      <td>NaN</td>\n",
              "      <td>NaN</td>\n",
              "      <td>NaN</td>\n",
              "      <td>PGIS</td>\n",
              "      <td>-9.0</td>\n",
              "      <td>-9.0</td>\n",
              "      <td>1.0</td>\n",
              "      <td>1.0</td>\n",
              "      <td>NaN</td>\n",
              "    </tr>\n",
              "  </tbody>\n",
              "</table>\n",
              "<p>5 rows × 135 columns</p>\n",
              "</div>\n",
              "      <button class=\"colab-df-convert\" onclick=\"convertToInteractive('df-776e8134-1536-4466-8867-1ae53caf271d')\"\n",
              "              title=\"Convert this dataframe to an interactive table.\"\n",
              "              style=\"display:none;\">\n",
              "\n",
              "  <svg xmlns=\"http://www.w3.org/2000/svg\" height=\"24px\"viewBox=\"0 0 24 24\"\n",
              "       width=\"24px\">\n",
              "    <path d=\"M0 0h24v24H0V0z\" fill=\"none\"/>\n",
              "    <path d=\"M18.56 5.44l.94 2.06.94-2.06 2.06-.94-2.06-.94-.94-2.06-.94 2.06-2.06.94zm-11 1L8.5 8.5l.94-2.06 2.06-.94-2.06-.94L8.5 2.5l-.94 2.06-2.06.94zm10 10l.94 2.06.94-2.06 2.06-.94-2.06-.94-.94-2.06-.94 2.06-2.06.94z\"/><path d=\"M17.41 7.96l-1.37-1.37c-.4-.4-.92-.59-1.43-.59-.52 0-1.04.2-1.43.59L10.3 9.45l-7.72 7.72c-.78.78-.78 2.05 0 2.83L4 21.41c.39.39.9.59 1.41.59.51 0 1.02-.2 1.41-.59l7.78-7.78 2.81-2.81c.8-.78.8-2.07 0-2.86zM5.41 20L4 18.59l7.72-7.72 1.47 1.35L5.41 20z\"/>\n",
              "  </svg>\n",
              "      </button>\n",
              "\n",
              "\n",
              "\n",
              "    <div id=\"df-bc184236-65be-46c1-80c2-7c6b5c7654d6\">\n",
              "      <button class=\"colab-df-quickchart\" onclick=\"quickchart('df-bc184236-65be-46c1-80c2-7c6b5c7654d6')\"\n",
              "              title=\"Suggest charts.\"\n",
              "              style=\"display:none;\">\n",
              "\n",
              "<svg xmlns=\"http://www.w3.org/2000/svg\" height=\"24px\"viewBox=\"0 0 24 24\"\n",
              "     width=\"24px\">\n",
              "    <g>\n",
              "        <path d=\"M19 3H5c-1.1 0-2 .9-2 2v14c0 1.1.9 2 2 2h14c1.1 0 2-.9 2-2V5c0-1.1-.9-2-2-2zM9 17H7v-7h2v7zm4 0h-2V7h2v10zm4 0h-2v-4h2v4z\"/>\n",
              "    </g>\n",
              "</svg>\n",
              "      </button>\n",
              "    </div>\n",
              "\n",
              "<style>\n",
              "  .colab-df-quickchart {\n",
              "    background-color: #E8F0FE;\n",
              "    border: none;\n",
              "    border-radius: 50%;\n",
              "    cursor: pointer;\n",
              "    display: none;\n",
              "    fill: #1967D2;\n",
              "    height: 32px;\n",
              "    padding: 0 0 0 0;\n",
              "    width: 32px;\n",
              "  }\n",
              "\n",
              "  .colab-df-quickchart:hover {\n",
              "    background-color: #E2EBFA;\n",
              "    box-shadow: 0px 1px 2px rgba(60, 64, 67, 0.3), 0px 1px 3px 1px rgba(60, 64, 67, 0.15);\n",
              "    fill: #174EA6;\n",
              "  }\n",
              "\n",
              "  [theme=dark] .colab-df-quickchart {\n",
              "    background-color: #3B4455;\n",
              "    fill: #D2E3FC;\n",
              "  }\n",
              "\n",
              "  [theme=dark] .colab-df-quickchart:hover {\n",
              "    background-color: #434B5C;\n",
              "    box-shadow: 0px 1px 3px 1px rgba(0, 0, 0, 0.15);\n",
              "    filter: drop-shadow(0px 1px 2px rgba(0, 0, 0, 0.3));\n",
              "    fill: #FFFFFF;\n",
              "  }\n",
              "</style>\n",
              "\n",
              "    <script>\n",
              "      async function quickchart(key) {\n",
              "        const containerElement = document.querySelector('#' + key);\n",
              "        const charts = await google.colab.kernel.invokeFunction(\n",
              "            'suggestCharts', [key], {});\n",
              "      }\n",
              "    </script>\n",
              "\n",
              "      <script>\n",
              "\n",
              "function displayQuickchartButton(domScope) {\n",
              "  let quickchartButtonEl =\n",
              "    domScope.querySelector('#df-bc184236-65be-46c1-80c2-7c6b5c7654d6 button.colab-df-quickchart');\n",
              "  quickchartButtonEl.style.display =\n",
              "    google.colab.kernel.accessAllowed ? 'block' : 'none';\n",
              "}\n",
              "\n",
              "        displayQuickchartButton(document);\n",
              "      </script>\n",
              "      <style>\n",
              "    .colab-df-container {\n",
              "      display:flex;\n",
              "      flex-wrap:wrap;\n",
              "      gap: 12px;\n",
              "    }\n",
              "\n",
              "    .colab-df-convert {\n",
              "      background-color: #E8F0FE;\n",
              "      border: none;\n",
              "      border-radius: 50%;\n",
              "      cursor: pointer;\n",
              "      display: none;\n",
              "      fill: #1967D2;\n",
              "      height: 32px;\n",
              "      padding: 0 0 0 0;\n",
              "      width: 32px;\n",
              "    }\n",
              "\n",
              "    .colab-df-convert:hover {\n",
              "      background-color: #E2EBFA;\n",
              "      box-shadow: 0px 1px 2px rgba(60, 64, 67, 0.3), 0px 1px 3px 1px rgba(60, 64, 67, 0.15);\n",
              "      fill: #174EA6;\n",
              "    }\n",
              "\n",
              "    [theme=dark] .colab-df-convert {\n",
              "      background-color: #3B4455;\n",
              "      fill: #D2E3FC;\n",
              "    }\n",
              "\n",
              "    [theme=dark] .colab-df-convert:hover {\n",
              "      background-color: #434B5C;\n",
              "      box-shadow: 0px 1px 3px 1px rgba(0, 0, 0, 0.15);\n",
              "      filter: drop-shadow(0px 1px 2px rgba(0, 0, 0, 0.3));\n",
              "      fill: #FFFFFF;\n",
              "    }\n",
              "  </style>\n",
              "\n",
              "      <script>\n",
              "        const buttonEl =\n",
              "          document.querySelector('#df-776e8134-1536-4466-8867-1ae53caf271d button.colab-df-convert');\n",
              "        buttonEl.style.display =\n",
              "          google.colab.kernel.accessAllowed ? 'block' : 'none';\n",
              "\n",
              "        async function convertToInteractive(key) {\n",
              "          const element = document.querySelector('#df-776e8134-1536-4466-8867-1ae53caf271d');\n",
              "          const dataTable =\n",
              "            await google.colab.kernel.invokeFunction('convertToInteractive',\n",
              "                                                     [key], {});\n",
              "          if (!dataTable) return;\n",
              "\n",
              "          const docLinkHtml = 'Like what you see? Visit the ' +\n",
              "            '<a target=\"_blank\" href=https://colab.research.google.com/notebooks/data_table.ipynb>data table notebook</a>'\n",
              "            + ' to learn more about interactive tables.';\n",
              "          element.innerHTML = '';\n",
              "          dataTable['output_type'] = 'display_data';\n",
              "          await google.colab.output.renderOutput(dataTable, element);\n",
              "          const docLink = document.createElement('div');\n",
              "          docLink.innerHTML = docLinkHtml;\n",
              "          element.appendChild(docLink);\n",
              "        }\n",
              "      </script>\n",
              "    </div>\n",
              "  </div>\n"
            ]
          },
          "metadata": {},
          "execution_count": 15
        }
      ]
    },
    {
      "cell_type": "markdown",
      "source": [
        "Checking the updated shape of the dataset"
      ],
      "metadata": {
        "id": "tt_YnDPdps-U"
      }
    },
    {
      "cell_type": "code",
      "source": [
        "terrorism_df.shape"
      ],
      "metadata": {
        "colab": {
          "base_uri": "https://localhost:8080/"
        },
        "id": "yBz8137Wp3D2",
        "outputId": "d8c5261d-b163-486b-bede-a389207dac7d"
      },
      "execution_count": 16,
      "outputs": [
        {
          "output_type": "execute_result",
          "data": {
            "text/plain": [
              "(7316, 135)"
            ]
          },
          "metadata": {},
          "execution_count": 16
        }
      ]
    },
    {
      "cell_type": "markdown",
      "source": [
        "Checking for the null values"
      ],
      "metadata": {
        "id": "XN6ozCSRp8WE"
      }
    },
    {
      "cell_type": "code",
      "source": [
        "terrorism_df.isnull().sum()"
      ],
      "metadata": {
        "colab": {
          "base_uri": "https://localhost:8080/"
        },
        "id": "547j5AX-p9T1",
        "outputId": "99d8eef8-144f-4f72-c3e1-33817380ba48"
      },
      "execution_count": 17,
      "outputs": [
        {
          "output_type": "execute_result",
          "data": {
            "text/plain": [
              "eventid          0\n",
              "Year             0\n",
              "Month            0\n",
              "Day              0\n",
              "approxdate    7300\n",
              "              ... \n",
              "INT_LOG          1\n",
              "INT_IDEO         1\n",
              "INT_MISC         1\n",
              "INT_ANY          1\n",
              "related       6847\n",
              "Length: 135, dtype: int64"
            ]
          },
          "metadata": {},
          "execution_count": 17
        }
      ]
    },
    {
      "cell_type": "markdown",
      "source": [
        "Filling the NaN values"
      ],
      "metadata": {
        "id": "fxS7DsG5qDnS"
      }
    },
    {
      "cell_type": "code",
      "source": [
        "terrorism_df['Target_subtype'] = terrorism_df['Target_subtype'].fillna('others')"
      ],
      "metadata": {
        "id": "hs9tk4fuqEpJ"
      },
      "execution_count": 58,
      "outputs": []
    },
    {
      "cell_type": "code",
      "source": [
        "terrorism_df['State']=terrorism_df['State'].fillna('Unknown')"
      ],
      "metadata": {
        "id": "WXEXuuRWqh6a"
      },
      "execution_count": 59,
      "outputs": []
    },
    {
      "cell_type": "code",
      "source": [
        "terrorism_df['City']=terrorism_df['City'].fillna('Unknown')"
      ],
      "metadata": {
        "id": "JJdtrZaPqiob"
      },
      "execution_count": 60,
      "outputs": []
    },
    {
      "cell_type": "code",
      "source": [
        "terrorism_df.replace( {\"Vehicle (not to include vehicle-borne explosives, i.e., car or truck bombs)\": \"Vehicle\"},inplace = True)"
      ],
      "metadata": {
        "id": "v4_zBUzmqpWq"
      },
      "execution_count": 64,
      "outputs": []
    },
    {
      "cell_type": "code",
      "source": [
        "terrorism_df"
      ],
      "metadata": {
        "colab": {
          "base_uri": "https://localhost:8080/",
          "height": 624
        },
        "id": "-p8jQFl9qr0E",
        "outputId": "d542581a-230d-441e-fb3c-192a4afa3000"
      },
      "execution_count": 61,
      "outputs": [
        {
          "output_type": "execute_result",
          "data": {
            "text/plain": [
              "      Year  Month  Day             Country                       Region  \\\n",
              "0     1970      7    2  Dominican Republic  Central America & Caribbean   \n",
              "1     1970      0    0              Mexico                North America   \n",
              "2     1970      1    0         Philippines               Southeast Asia   \n",
              "3     1970      1    0              Greece               Western Europe   \n",
              "4     1970      1    0               Japan                    East Asia   \n",
              "...    ...    ...  ...                 ...                          ...   \n",
              "7311  1979      1    9             Myanmar               Southeast Asia   \n",
              "7312  1979      1    9               Italy               Western Europe   \n",
              "7313  1979      1    9      United Kingdom               Western Europe   \n",
              "7314  1979      1   10               Italy               Western Europe   \n",
              "7315  1979      1   10               Italy               Western Europe   \n",
              "\n",
              "                 State           City                     Attack_type  \\\n",
              "0              Unknown  Santo Domingo                   Assassination   \n",
              "1              Federal    Mexico city     Hostage Taking (Kidnapping)   \n",
              "2               Tarlac        Unknown                   Assassination   \n",
              "3               Attica         Athens               Bombing/Explosion   \n",
              "4              Fukouka        Fukouka  Facility/Infrastructure Attack   \n",
              "...                ...            ...                             ...   \n",
              "7311              Shan      Mong Tong                   Armed Assault   \n",
              "7312             Lazio           Rome     Hostage Taking (Kidnapping)   \n",
              "7313  Northern Ireland        Belfast                   Armed Assault   \n",
              "7314             Lazio           Rome  Facility/Infrastructure Attack   \n",
              "7315             Lazio           Rome                   Assassination   \n",
              "\n",
              "                      Target_type  \\\n",
              "0     Private Citizens & Property   \n",
              "1         Government (Diplomatic)   \n",
              "2             Journalists & Media   \n",
              "3         Government (Diplomatic)   \n",
              "4         Government (Diplomatic)   \n",
              "...                           ...   \n",
              "7311                     Military   \n",
              "7312          Journalists & Media   \n",
              "7313                       Police   \n",
              "7314         Government (General)   \n",
              "7315      Violent Political Party   \n",
              "\n",
              "                                         Target_subtype  \\\n",
              "0                                        Named Civilian   \n",
              "1     Diplomatic Personnel (outside of embassy, cons...   \n",
              "2                       Radio Journalist/Staff/Facility   \n",
              "3                                     Embassy/Consulate   \n",
              "4                                     Embassy/Consulate   \n",
              "...                                                 ...   \n",
              "7311                        Military Unit/Patrol/Convoy   \n",
              "7312                    Radio Journalist/Staff/Facility   \n",
              "7313     Police Patrol (including vehicles and convoys)   \n",
              "7314  Politician or Political Party Movement/Meeting...   \n",
              "7315           Party Official/Candidate/Other Personnel   \n",
              "\n",
              "                               Gang_name Weapon_type  \n",
              "0                                 MANO-D     Unknown  \n",
              "1     23rd of September Communist League     Unknown  \n",
              "2                                Unknown     Unknown  \n",
              "3                                Unknown  Explosives  \n",
              "4                                Unknown  Incendiary  \n",
              "...                                  ...         ...  \n",
              "7311             People's Army (Myanmar)    Firearms  \n",
              "7312    Armed Revolutionary Nuclei (NAR)    Firearms  \n",
              "7313         Irish Republican Army (IRA)    Firearms  \n",
              "7314       Italian Social Movement (MSI)  Incendiary  \n",
              "7315                                 NaN         NaN  \n",
              "\n",
              "[7316 rows x 12 columns]"
            ],
            "text/html": [
              "\n",
              "\n",
              "  <div id=\"df-1f8e28ca-b939-4ed6-9fa7-3d7a27abac7c\">\n",
              "    <div class=\"colab-df-container\">\n",
              "      <div>\n",
              "<style scoped>\n",
              "    .dataframe tbody tr th:only-of-type {\n",
              "        vertical-align: middle;\n",
              "    }\n",
              "\n",
              "    .dataframe tbody tr th {\n",
              "        vertical-align: top;\n",
              "    }\n",
              "\n",
              "    .dataframe thead th {\n",
              "        text-align: right;\n",
              "    }\n",
              "</style>\n",
              "<table border=\"1\" class=\"dataframe\">\n",
              "  <thead>\n",
              "    <tr style=\"text-align: right;\">\n",
              "      <th></th>\n",
              "      <th>Year</th>\n",
              "      <th>Month</th>\n",
              "      <th>Day</th>\n",
              "      <th>Country</th>\n",
              "      <th>Region</th>\n",
              "      <th>State</th>\n",
              "      <th>City</th>\n",
              "      <th>Attack_type</th>\n",
              "      <th>Target_type</th>\n",
              "      <th>Target_subtype</th>\n",
              "      <th>Gang_name</th>\n",
              "      <th>Weapon_type</th>\n",
              "    </tr>\n",
              "  </thead>\n",
              "  <tbody>\n",
              "    <tr>\n",
              "      <th>0</th>\n",
              "      <td>1970</td>\n",
              "      <td>7</td>\n",
              "      <td>2</td>\n",
              "      <td>Dominican Republic</td>\n",
              "      <td>Central America &amp; Caribbean</td>\n",
              "      <td>Unknown</td>\n",
              "      <td>Santo Domingo</td>\n",
              "      <td>Assassination</td>\n",
              "      <td>Private Citizens &amp; Property</td>\n",
              "      <td>Named Civilian</td>\n",
              "      <td>MANO-D</td>\n",
              "      <td>Unknown</td>\n",
              "    </tr>\n",
              "    <tr>\n",
              "      <th>1</th>\n",
              "      <td>1970</td>\n",
              "      <td>0</td>\n",
              "      <td>0</td>\n",
              "      <td>Mexico</td>\n",
              "      <td>North America</td>\n",
              "      <td>Federal</td>\n",
              "      <td>Mexico city</td>\n",
              "      <td>Hostage Taking (Kidnapping)</td>\n",
              "      <td>Government (Diplomatic)</td>\n",
              "      <td>Diplomatic Personnel (outside of embassy, cons...</td>\n",
              "      <td>23rd of September Communist League</td>\n",
              "      <td>Unknown</td>\n",
              "    </tr>\n",
              "    <tr>\n",
              "      <th>2</th>\n",
              "      <td>1970</td>\n",
              "      <td>1</td>\n",
              "      <td>0</td>\n",
              "      <td>Philippines</td>\n",
              "      <td>Southeast Asia</td>\n",
              "      <td>Tarlac</td>\n",
              "      <td>Unknown</td>\n",
              "      <td>Assassination</td>\n",
              "      <td>Journalists &amp; Media</td>\n",
              "      <td>Radio Journalist/Staff/Facility</td>\n",
              "      <td>Unknown</td>\n",
              "      <td>Unknown</td>\n",
              "    </tr>\n",
              "    <tr>\n",
              "      <th>3</th>\n",
              "      <td>1970</td>\n",
              "      <td>1</td>\n",
              "      <td>0</td>\n",
              "      <td>Greece</td>\n",
              "      <td>Western Europe</td>\n",
              "      <td>Attica</td>\n",
              "      <td>Athens</td>\n",
              "      <td>Bombing/Explosion</td>\n",
              "      <td>Government (Diplomatic)</td>\n",
              "      <td>Embassy/Consulate</td>\n",
              "      <td>Unknown</td>\n",
              "      <td>Explosives</td>\n",
              "    </tr>\n",
              "    <tr>\n",
              "      <th>4</th>\n",
              "      <td>1970</td>\n",
              "      <td>1</td>\n",
              "      <td>0</td>\n",
              "      <td>Japan</td>\n",
              "      <td>East Asia</td>\n",
              "      <td>Fukouka</td>\n",
              "      <td>Fukouka</td>\n",
              "      <td>Facility/Infrastructure Attack</td>\n",
              "      <td>Government (Diplomatic)</td>\n",
              "      <td>Embassy/Consulate</td>\n",
              "      <td>Unknown</td>\n",
              "      <td>Incendiary</td>\n",
              "    </tr>\n",
              "    <tr>\n",
              "      <th>...</th>\n",
              "      <td>...</td>\n",
              "      <td>...</td>\n",
              "      <td>...</td>\n",
              "      <td>...</td>\n",
              "      <td>...</td>\n",
              "      <td>...</td>\n",
              "      <td>...</td>\n",
              "      <td>...</td>\n",
              "      <td>...</td>\n",
              "      <td>...</td>\n",
              "      <td>...</td>\n",
              "      <td>...</td>\n",
              "    </tr>\n",
              "    <tr>\n",
              "      <th>7311</th>\n",
              "      <td>1979</td>\n",
              "      <td>1</td>\n",
              "      <td>9</td>\n",
              "      <td>Myanmar</td>\n",
              "      <td>Southeast Asia</td>\n",
              "      <td>Shan</td>\n",
              "      <td>Mong Tong</td>\n",
              "      <td>Armed Assault</td>\n",
              "      <td>Military</td>\n",
              "      <td>Military Unit/Patrol/Convoy</td>\n",
              "      <td>People's Army (Myanmar)</td>\n",
              "      <td>Firearms</td>\n",
              "    </tr>\n",
              "    <tr>\n",
              "      <th>7312</th>\n",
              "      <td>1979</td>\n",
              "      <td>1</td>\n",
              "      <td>9</td>\n",
              "      <td>Italy</td>\n",
              "      <td>Western Europe</td>\n",
              "      <td>Lazio</td>\n",
              "      <td>Rome</td>\n",
              "      <td>Hostage Taking (Kidnapping)</td>\n",
              "      <td>Journalists &amp; Media</td>\n",
              "      <td>Radio Journalist/Staff/Facility</td>\n",
              "      <td>Armed Revolutionary Nuclei (NAR)</td>\n",
              "      <td>Firearms</td>\n",
              "    </tr>\n",
              "    <tr>\n",
              "      <th>7313</th>\n",
              "      <td>1979</td>\n",
              "      <td>1</td>\n",
              "      <td>9</td>\n",
              "      <td>United Kingdom</td>\n",
              "      <td>Western Europe</td>\n",
              "      <td>Northern Ireland</td>\n",
              "      <td>Belfast</td>\n",
              "      <td>Armed Assault</td>\n",
              "      <td>Police</td>\n",
              "      <td>Police Patrol (including vehicles and convoys)</td>\n",
              "      <td>Irish Republican Army (IRA)</td>\n",
              "      <td>Firearms</td>\n",
              "    </tr>\n",
              "    <tr>\n",
              "      <th>7314</th>\n",
              "      <td>1979</td>\n",
              "      <td>1</td>\n",
              "      <td>10</td>\n",
              "      <td>Italy</td>\n",
              "      <td>Western Europe</td>\n",
              "      <td>Lazio</td>\n",
              "      <td>Rome</td>\n",
              "      <td>Facility/Infrastructure Attack</td>\n",
              "      <td>Government (General)</td>\n",
              "      <td>Politician or Political Party Movement/Meeting...</td>\n",
              "      <td>Italian Social Movement (MSI)</td>\n",
              "      <td>Incendiary</td>\n",
              "    </tr>\n",
              "    <tr>\n",
              "      <th>7315</th>\n",
              "      <td>1979</td>\n",
              "      <td>1</td>\n",
              "      <td>10</td>\n",
              "      <td>Italy</td>\n",
              "      <td>Western Europe</td>\n",
              "      <td>Lazio</td>\n",
              "      <td>Rome</td>\n",
              "      <td>Assassination</td>\n",
              "      <td>Violent Political Party</td>\n",
              "      <td>Party Official/Candidate/Other Personnel</td>\n",
              "      <td>NaN</td>\n",
              "      <td>NaN</td>\n",
              "    </tr>\n",
              "  </tbody>\n",
              "</table>\n",
              "<p>7316 rows × 12 columns</p>\n",
              "</div>\n",
              "      <button class=\"colab-df-convert\" onclick=\"convertToInteractive('df-1f8e28ca-b939-4ed6-9fa7-3d7a27abac7c')\"\n",
              "              title=\"Convert this dataframe to an interactive table.\"\n",
              "              style=\"display:none;\">\n",
              "\n",
              "  <svg xmlns=\"http://www.w3.org/2000/svg\" height=\"24px\"viewBox=\"0 0 24 24\"\n",
              "       width=\"24px\">\n",
              "    <path d=\"M0 0h24v24H0V0z\" fill=\"none\"/>\n",
              "    <path d=\"M18.56 5.44l.94 2.06.94-2.06 2.06-.94-2.06-.94-.94-2.06-.94 2.06-2.06.94zm-11 1L8.5 8.5l.94-2.06 2.06-.94-2.06-.94L8.5 2.5l-.94 2.06-2.06.94zm10 10l.94 2.06.94-2.06 2.06-.94-2.06-.94-.94-2.06-.94 2.06-2.06.94z\"/><path d=\"M17.41 7.96l-1.37-1.37c-.4-.4-.92-.59-1.43-.59-.52 0-1.04.2-1.43.59L10.3 9.45l-7.72 7.72c-.78.78-.78 2.05 0 2.83L4 21.41c.39.39.9.59 1.41.59.51 0 1.02-.2 1.41-.59l7.78-7.78 2.81-2.81c.8-.78.8-2.07 0-2.86zM5.41 20L4 18.59l7.72-7.72 1.47 1.35L5.41 20z\"/>\n",
              "  </svg>\n",
              "      </button>\n",
              "\n",
              "\n",
              "\n",
              "    <div id=\"df-7a3748d2-0e72-41f2-bd6c-13e81832747a\">\n",
              "      <button class=\"colab-df-quickchart\" onclick=\"quickchart('df-7a3748d2-0e72-41f2-bd6c-13e81832747a')\"\n",
              "              title=\"Suggest charts.\"\n",
              "              style=\"display:none;\">\n",
              "\n",
              "<svg xmlns=\"http://www.w3.org/2000/svg\" height=\"24px\"viewBox=\"0 0 24 24\"\n",
              "     width=\"24px\">\n",
              "    <g>\n",
              "        <path d=\"M19 3H5c-1.1 0-2 .9-2 2v14c0 1.1.9 2 2 2h14c1.1 0 2-.9 2-2V5c0-1.1-.9-2-2-2zM9 17H7v-7h2v7zm4 0h-2V7h2v10zm4 0h-2v-4h2v4z\"/>\n",
              "    </g>\n",
              "</svg>\n",
              "      </button>\n",
              "    </div>\n",
              "\n",
              "<style>\n",
              "  .colab-df-quickchart {\n",
              "    background-color: #E8F0FE;\n",
              "    border: none;\n",
              "    border-radius: 50%;\n",
              "    cursor: pointer;\n",
              "    display: none;\n",
              "    fill: #1967D2;\n",
              "    height: 32px;\n",
              "    padding: 0 0 0 0;\n",
              "    width: 32px;\n",
              "  }\n",
              "\n",
              "  .colab-df-quickchart:hover {\n",
              "    background-color: #E2EBFA;\n",
              "    box-shadow: 0px 1px 2px rgba(60, 64, 67, 0.3), 0px 1px 3px 1px rgba(60, 64, 67, 0.15);\n",
              "    fill: #174EA6;\n",
              "  }\n",
              "\n",
              "  [theme=dark] .colab-df-quickchart {\n",
              "    background-color: #3B4455;\n",
              "    fill: #D2E3FC;\n",
              "  }\n",
              "\n",
              "  [theme=dark] .colab-df-quickchart:hover {\n",
              "    background-color: #434B5C;\n",
              "    box-shadow: 0px 1px 3px 1px rgba(0, 0, 0, 0.15);\n",
              "    filter: drop-shadow(0px 1px 2px rgba(0, 0, 0, 0.3));\n",
              "    fill: #FFFFFF;\n",
              "  }\n",
              "</style>\n",
              "\n",
              "    <script>\n",
              "      async function quickchart(key) {\n",
              "        const containerElement = document.querySelector('#' + key);\n",
              "        const charts = await google.colab.kernel.invokeFunction(\n",
              "            'suggestCharts', [key], {});\n",
              "      }\n",
              "    </script>\n",
              "\n",
              "      <script>\n",
              "\n",
              "function displayQuickchartButton(domScope) {\n",
              "  let quickchartButtonEl =\n",
              "    domScope.querySelector('#df-7a3748d2-0e72-41f2-bd6c-13e81832747a button.colab-df-quickchart');\n",
              "  quickchartButtonEl.style.display =\n",
              "    google.colab.kernel.accessAllowed ? 'block' : 'none';\n",
              "}\n",
              "\n",
              "        displayQuickchartButton(document);\n",
              "      </script>\n",
              "      <style>\n",
              "    .colab-df-container {\n",
              "      display:flex;\n",
              "      flex-wrap:wrap;\n",
              "      gap: 12px;\n",
              "    }\n",
              "\n",
              "    .colab-df-convert {\n",
              "      background-color: #E8F0FE;\n",
              "      border: none;\n",
              "      border-radius: 50%;\n",
              "      cursor: pointer;\n",
              "      display: none;\n",
              "      fill: #1967D2;\n",
              "      height: 32px;\n",
              "      padding: 0 0 0 0;\n",
              "      width: 32px;\n",
              "    }\n",
              "\n",
              "    .colab-df-convert:hover {\n",
              "      background-color: #E2EBFA;\n",
              "      box-shadow: 0px 1px 2px rgba(60, 64, 67, 0.3), 0px 1px 3px 1px rgba(60, 64, 67, 0.15);\n",
              "      fill: #174EA6;\n",
              "    }\n",
              "\n",
              "    [theme=dark] .colab-df-convert {\n",
              "      background-color: #3B4455;\n",
              "      fill: #D2E3FC;\n",
              "    }\n",
              "\n",
              "    [theme=dark] .colab-df-convert:hover {\n",
              "      background-color: #434B5C;\n",
              "      box-shadow: 0px 1px 3px 1px rgba(0, 0, 0, 0.15);\n",
              "      filter: drop-shadow(0px 1px 2px rgba(0, 0, 0, 0.3));\n",
              "      fill: #FFFFFF;\n",
              "    }\n",
              "  </style>\n",
              "\n",
              "      <script>\n",
              "        const buttonEl =\n",
              "          document.querySelector('#df-1f8e28ca-b939-4ed6-9fa7-3d7a27abac7c button.colab-df-convert');\n",
              "        buttonEl.style.display =\n",
              "          google.colab.kernel.accessAllowed ? 'block' : 'none';\n",
              "\n",
              "        async function convertToInteractive(key) {\n",
              "          const element = document.querySelector('#df-1f8e28ca-b939-4ed6-9fa7-3d7a27abac7c');\n",
              "          const dataTable =\n",
              "            await google.colab.kernel.invokeFunction('convertToInteractive',\n",
              "                                                     [key], {});\n",
              "          if (!dataTable) return;\n",
              "\n",
              "          const docLinkHtml = 'Like what you see? Visit the ' +\n",
              "            '<a target=\"_blank\" href=https://colab.research.google.com/notebooks/data_table.ipynb>data table notebook</a>'\n",
              "            + ' to learn more about interactive tables.';\n",
              "          element.innerHTML = '';\n",
              "          dataTable['output_type'] = 'display_data';\n",
              "          await google.colab.output.renderOutput(dataTable, element);\n",
              "          const docLink = document.createElement('div');\n",
              "          docLink.innerHTML = docLinkHtml;\n",
              "          element.appendChild(docLink);\n",
              "        }\n",
              "      </script>\n",
              "    </div>\n",
              "  </div>\n"
            ]
          },
          "metadata": {},
          "execution_count": 61
        }
      ]
    },
    {
      "cell_type": "code",
      "source": [
        "terrorism_df.shape"
      ],
      "metadata": {
        "colab": {
          "base_uri": "https://localhost:8080/"
        },
        "id": "hwWkgZChqutW",
        "outputId": "65d4ee23-e33a-41de-870b-4c7b1bf80214"
      },
      "execution_count": 62,
      "outputs": [
        {
          "output_type": "execute_result",
          "data": {
            "text/plain": [
              "(7316, 12)"
            ]
          },
          "metadata": {},
          "execution_count": 62
        }
      ]
    },
    {
      "cell_type": "code",
      "source": [
        "terrorism_df.isnull().sum()"
      ],
      "metadata": {
        "colab": {
          "base_uri": "https://localhost:8080/"
        },
        "id": "_W40mktkqxH0",
        "outputId": "6617fa2d-5ff8-4c22-dee4-eae0580b09e4"
      },
      "execution_count": 63,
      "outputs": [
        {
          "output_type": "execute_result",
          "data": {
            "text/plain": [
              "Year              0\n",
              "Month             0\n",
              "Day               0\n",
              "Country           0\n",
              "Region            0\n",
              "State             0\n",
              "City              0\n",
              "Attack_type       0\n",
              "Target_type       0\n",
              "Target_subtype    0\n",
              "Gang_name         1\n",
              "Weapon_type       1\n",
              "dtype: int64"
            ]
          },
          "metadata": {},
          "execution_count": 63
        }
      ]
    },
    {
      "cell_type": "code",
      "source": [
        "terrorism_df.head(10)"
      ],
      "metadata": {
        "colab": {
          "base_uri": "https://localhost:8080/",
          "height": 528
        },
        "id": "qUK6y97Zqzcj",
        "outputId": "90217d3a-3624-401c-9f71-609361ef723a"
      },
      "execution_count": 27,
      "outputs": [
        {
          "output_type": "execute_result",
          "data": {
            "text/plain": [
              "   Year  Month  Day             Country                       Region  \\\n",
              "0  1970      7    2  Dominican Republic  Central America & Caribbean   \n",
              "1  1970      0    0              Mexico                North America   \n",
              "2  1970      1    0         Philippines               Southeast Asia   \n",
              "3  1970      1    0              Greece               Western Europe   \n",
              "4  1970      1    0               Japan                    East Asia   \n",
              "5  1970      1    1       United States                North America   \n",
              "6  1970      1    2             Uruguay                South America   \n",
              "7  1970      1    2       United States                North America   \n",
              "8  1970      1    2       United States                North America   \n",
              "9  1970      1    3       United States                North America   \n",
              "\n",
              "        State           City                     Attack_type  \\\n",
              "0     Unknown  Santo Domingo                   Assassination   \n",
              "1     Federal    Mexico city     Hostage Taking (Kidnapping)   \n",
              "2      Tarlac        Unknown                   Assassination   \n",
              "3      Attica         Athens               Bombing/Explosion   \n",
              "4     Fukouka        Fukouka  Facility/Infrastructure Attack   \n",
              "5    Illinois          Cairo                   Armed Assault   \n",
              "6  Montevideo     Montevideo                   Assassination   \n",
              "7  California        Oakland               Bombing/Explosion   \n",
              "8   Wisconsin        Madison  Facility/Infrastructure Attack   \n",
              "9   Wisconsin        Madison  Facility/Infrastructure Attack   \n",
              "\n",
              "                   Target_type  \\\n",
              "0  Private Citizens & Property   \n",
              "1      Government (Diplomatic)   \n",
              "2          Journalists & Media   \n",
              "3      Government (Diplomatic)   \n",
              "4      Government (Diplomatic)   \n",
              "5                       Police   \n",
              "6                       Police   \n",
              "7                    Utilities   \n",
              "8                     Military   \n",
              "9         Government (General)   \n",
              "\n",
              "                                      Target_subtype  \\\n",
              "0                                     Named Civilian   \n",
              "1  Diplomatic Personnel (outside of embassy, cons...   \n",
              "2                    Radio Journalist/Staff/Facility   \n",
              "3                                  Embassy/Consulate   \n",
              "4                                  Embassy/Consulate   \n",
              "5    Police Building (headquarters, station, school)   \n",
              "6                    Police Security Forces/Officers   \n",
              "7                                        Electricity   \n",
              "8                Military Recruiting Station/Academy   \n",
              "9                Government Building/Facility/Office   \n",
              "\n",
              "                            Gang_name Weapon_type  \n",
              "0                              MANO-D     Unknown  \n",
              "1  23rd of September Communist League     Unknown  \n",
              "2                             Unknown     Unknown  \n",
              "3                             Unknown  Explosives  \n",
              "4                             Unknown  Incendiary  \n",
              "5                  Black Nationalists    Firearms  \n",
              "6                 Tupamaros (Uruguay)    Firearms  \n",
              "7                             Unknown  Explosives  \n",
              "8                     New Year's Gang  Incendiary  \n",
              "9                     New Year's Gang  Incendiary  "
            ],
            "text/html": [
              "\n",
              "\n",
              "  <div id=\"df-2aa92442-bf8d-4d9c-a687-ac0f8fa8488c\">\n",
              "    <div class=\"colab-df-container\">\n",
              "      <div>\n",
              "<style scoped>\n",
              "    .dataframe tbody tr th:only-of-type {\n",
              "        vertical-align: middle;\n",
              "    }\n",
              "\n",
              "    .dataframe tbody tr th {\n",
              "        vertical-align: top;\n",
              "    }\n",
              "\n",
              "    .dataframe thead th {\n",
              "        text-align: right;\n",
              "    }\n",
              "</style>\n",
              "<table border=\"1\" class=\"dataframe\">\n",
              "  <thead>\n",
              "    <tr style=\"text-align: right;\">\n",
              "      <th></th>\n",
              "      <th>Year</th>\n",
              "      <th>Month</th>\n",
              "      <th>Day</th>\n",
              "      <th>Country</th>\n",
              "      <th>Region</th>\n",
              "      <th>State</th>\n",
              "      <th>City</th>\n",
              "      <th>Attack_type</th>\n",
              "      <th>Target_type</th>\n",
              "      <th>Target_subtype</th>\n",
              "      <th>Gang_name</th>\n",
              "      <th>Weapon_type</th>\n",
              "    </tr>\n",
              "  </thead>\n",
              "  <tbody>\n",
              "    <tr>\n",
              "      <th>0</th>\n",
              "      <td>1970</td>\n",
              "      <td>7</td>\n",
              "      <td>2</td>\n",
              "      <td>Dominican Republic</td>\n",
              "      <td>Central America &amp; Caribbean</td>\n",
              "      <td>Unknown</td>\n",
              "      <td>Santo Domingo</td>\n",
              "      <td>Assassination</td>\n",
              "      <td>Private Citizens &amp; Property</td>\n",
              "      <td>Named Civilian</td>\n",
              "      <td>MANO-D</td>\n",
              "      <td>Unknown</td>\n",
              "    </tr>\n",
              "    <tr>\n",
              "      <th>1</th>\n",
              "      <td>1970</td>\n",
              "      <td>0</td>\n",
              "      <td>0</td>\n",
              "      <td>Mexico</td>\n",
              "      <td>North America</td>\n",
              "      <td>Federal</td>\n",
              "      <td>Mexico city</td>\n",
              "      <td>Hostage Taking (Kidnapping)</td>\n",
              "      <td>Government (Diplomatic)</td>\n",
              "      <td>Diplomatic Personnel (outside of embassy, cons...</td>\n",
              "      <td>23rd of September Communist League</td>\n",
              "      <td>Unknown</td>\n",
              "    </tr>\n",
              "    <tr>\n",
              "      <th>2</th>\n",
              "      <td>1970</td>\n",
              "      <td>1</td>\n",
              "      <td>0</td>\n",
              "      <td>Philippines</td>\n",
              "      <td>Southeast Asia</td>\n",
              "      <td>Tarlac</td>\n",
              "      <td>Unknown</td>\n",
              "      <td>Assassination</td>\n",
              "      <td>Journalists &amp; Media</td>\n",
              "      <td>Radio Journalist/Staff/Facility</td>\n",
              "      <td>Unknown</td>\n",
              "      <td>Unknown</td>\n",
              "    </tr>\n",
              "    <tr>\n",
              "      <th>3</th>\n",
              "      <td>1970</td>\n",
              "      <td>1</td>\n",
              "      <td>0</td>\n",
              "      <td>Greece</td>\n",
              "      <td>Western Europe</td>\n",
              "      <td>Attica</td>\n",
              "      <td>Athens</td>\n",
              "      <td>Bombing/Explosion</td>\n",
              "      <td>Government (Diplomatic)</td>\n",
              "      <td>Embassy/Consulate</td>\n",
              "      <td>Unknown</td>\n",
              "      <td>Explosives</td>\n",
              "    </tr>\n",
              "    <tr>\n",
              "      <th>4</th>\n",
              "      <td>1970</td>\n",
              "      <td>1</td>\n",
              "      <td>0</td>\n",
              "      <td>Japan</td>\n",
              "      <td>East Asia</td>\n",
              "      <td>Fukouka</td>\n",
              "      <td>Fukouka</td>\n",
              "      <td>Facility/Infrastructure Attack</td>\n",
              "      <td>Government (Diplomatic)</td>\n",
              "      <td>Embassy/Consulate</td>\n",
              "      <td>Unknown</td>\n",
              "      <td>Incendiary</td>\n",
              "    </tr>\n",
              "    <tr>\n",
              "      <th>5</th>\n",
              "      <td>1970</td>\n",
              "      <td>1</td>\n",
              "      <td>1</td>\n",
              "      <td>United States</td>\n",
              "      <td>North America</td>\n",
              "      <td>Illinois</td>\n",
              "      <td>Cairo</td>\n",
              "      <td>Armed Assault</td>\n",
              "      <td>Police</td>\n",
              "      <td>Police Building (headquarters, station, school)</td>\n",
              "      <td>Black Nationalists</td>\n",
              "      <td>Firearms</td>\n",
              "    </tr>\n",
              "    <tr>\n",
              "      <th>6</th>\n",
              "      <td>1970</td>\n",
              "      <td>1</td>\n",
              "      <td>2</td>\n",
              "      <td>Uruguay</td>\n",
              "      <td>South America</td>\n",
              "      <td>Montevideo</td>\n",
              "      <td>Montevideo</td>\n",
              "      <td>Assassination</td>\n",
              "      <td>Police</td>\n",
              "      <td>Police Security Forces/Officers</td>\n",
              "      <td>Tupamaros (Uruguay)</td>\n",
              "      <td>Firearms</td>\n",
              "    </tr>\n",
              "    <tr>\n",
              "      <th>7</th>\n",
              "      <td>1970</td>\n",
              "      <td>1</td>\n",
              "      <td>2</td>\n",
              "      <td>United States</td>\n",
              "      <td>North America</td>\n",
              "      <td>California</td>\n",
              "      <td>Oakland</td>\n",
              "      <td>Bombing/Explosion</td>\n",
              "      <td>Utilities</td>\n",
              "      <td>Electricity</td>\n",
              "      <td>Unknown</td>\n",
              "      <td>Explosives</td>\n",
              "    </tr>\n",
              "    <tr>\n",
              "      <th>8</th>\n",
              "      <td>1970</td>\n",
              "      <td>1</td>\n",
              "      <td>2</td>\n",
              "      <td>United States</td>\n",
              "      <td>North America</td>\n",
              "      <td>Wisconsin</td>\n",
              "      <td>Madison</td>\n",
              "      <td>Facility/Infrastructure Attack</td>\n",
              "      <td>Military</td>\n",
              "      <td>Military Recruiting Station/Academy</td>\n",
              "      <td>New Year's Gang</td>\n",
              "      <td>Incendiary</td>\n",
              "    </tr>\n",
              "    <tr>\n",
              "      <th>9</th>\n",
              "      <td>1970</td>\n",
              "      <td>1</td>\n",
              "      <td>3</td>\n",
              "      <td>United States</td>\n",
              "      <td>North America</td>\n",
              "      <td>Wisconsin</td>\n",
              "      <td>Madison</td>\n",
              "      <td>Facility/Infrastructure Attack</td>\n",
              "      <td>Government (General)</td>\n",
              "      <td>Government Building/Facility/Office</td>\n",
              "      <td>New Year's Gang</td>\n",
              "      <td>Incendiary</td>\n",
              "    </tr>\n",
              "  </tbody>\n",
              "</table>\n",
              "</div>\n",
              "      <button class=\"colab-df-convert\" onclick=\"convertToInteractive('df-2aa92442-bf8d-4d9c-a687-ac0f8fa8488c')\"\n",
              "              title=\"Convert this dataframe to an interactive table.\"\n",
              "              style=\"display:none;\">\n",
              "\n",
              "  <svg xmlns=\"http://www.w3.org/2000/svg\" height=\"24px\"viewBox=\"0 0 24 24\"\n",
              "       width=\"24px\">\n",
              "    <path d=\"M0 0h24v24H0V0z\" fill=\"none\"/>\n",
              "    <path d=\"M18.56 5.44l.94 2.06.94-2.06 2.06-.94-2.06-.94-.94-2.06-.94 2.06-2.06.94zm-11 1L8.5 8.5l.94-2.06 2.06-.94-2.06-.94L8.5 2.5l-.94 2.06-2.06.94zm10 10l.94 2.06.94-2.06 2.06-.94-2.06-.94-.94-2.06-.94 2.06-2.06.94z\"/><path d=\"M17.41 7.96l-1.37-1.37c-.4-.4-.92-.59-1.43-.59-.52 0-1.04.2-1.43.59L10.3 9.45l-7.72 7.72c-.78.78-.78 2.05 0 2.83L4 21.41c.39.39.9.59 1.41.59.51 0 1.02-.2 1.41-.59l7.78-7.78 2.81-2.81c.8-.78.8-2.07 0-2.86zM5.41 20L4 18.59l7.72-7.72 1.47 1.35L5.41 20z\"/>\n",
              "  </svg>\n",
              "      </button>\n",
              "\n",
              "\n",
              "\n",
              "    <div id=\"df-ef61007f-4ff9-44d0-bce2-dbbe2e6a5896\">\n",
              "      <button class=\"colab-df-quickchart\" onclick=\"quickchart('df-ef61007f-4ff9-44d0-bce2-dbbe2e6a5896')\"\n",
              "              title=\"Suggest charts.\"\n",
              "              style=\"display:none;\">\n",
              "\n",
              "<svg xmlns=\"http://www.w3.org/2000/svg\" height=\"24px\"viewBox=\"0 0 24 24\"\n",
              "     width=\"24px\">\n",
              "    <g>\n",
              "        <path d=\"M19 3H5c-1.1 0-2 .9-2 2v14c0 1.1.9 2 2 2h14c1.1 0 2-.9 2-2V5c0-1.1-.9-2-2-2zM9 17H7v-7h2v7zm4 0h-2V7h2v10zm4 0h-2v-4h2v4z\"/>\n",
              "    </g>\n",
              "</svg>\n",
              "      </button>\n",
              "    </div>\n",
              "\n",
              "<style>\n",
              "  .colab-df-quickchart {\n",
              "    background-color: #E8F0FE;\n",
              "    border: none;\n",
              "    border-radius: 50%;\n",
              "    cursor: pointer;\n",
              "    display: none;\n",
              "    fill: #1967D2;\n",
              "    height: 32px;\n",
              "    padding: 0 0 0 0;\n",
              "    width: 32px;\n",
              "  }\n",
              "\n",
              "  .colab-df-quickchart:hover {\n",
              "    background-color: #E2EBFA;\n",
              "    box-shadow: 0px 1px 2px rgba(60, 64, 67, 0.3), 0px 1px 3px 1px rgba(60, 64, 67, 0.15);\n",
              "    fill: #174EA6;\n",
              "  }\n",
              "\n",
              "  [theme=dark] .colab-df-quickchart {\n",
              "    background-color: #3B4455;\n",
              "    fill: #D2E3FC;\n",
              "  }\n",
              "\n",
              "  [theme=dark] .colab-df-quickchart:hover {\n",
              "    background-color: #434B5C;\n",
              "    box-shadow: 0px 1px 3px 1px rgba(0, 0, 0, 0.15);\n",
              "    filter: drop-shadow(0px 1px 2px rgba(0, 0, 0, 0.3));\n",
              "    fill: #FFFFFF;\n",
              "  }\n",
              "</style>\n",
              "\n",
              "    <script>\n",
              "      async function quickchart(key) {\n",
              "        const containerElement = document.querySelector('#' + key);\n",
              "        const charts = await google.colab.kernel.invokeFunction(\n",
              "            'suggestCharts', [key], {});\n",
              "      }\n",
              "    </script>\n",
              "\n",
              "      <script>\n",
              "\n",
              "function displayQuickchartButton(domScope) {\n",
              "  let quickchartButtonEl =\n",
              "    domScope.querySelector('#df-ef61007f-4ff9-44d0-bce2-dbbe2e6a5896 button.colab-df-quickchart');\n",
              "  quickchartButtonEl.style.display =\n",
              "    google.colab.kernel.accessAllowed ? 'block' : 'none';\n",
              "}\n",
              "\n",
              "        displayQuickchartButton(document);\n",
              "      </script>\n",
              "      <style>\n",
              "    .colab-df-container {\n",
              "      display:flex;\n",
              "      flex-wrap:wrap;\n",
              "      gap: 12px;\n",
              "    }\n",
              "\n",
              "    .colab-df-convert {\n",
              "      background-color: #E8F0FE;\n",
              "      border: none;\n",
              "      border-radius: 50%;\n",
              "      cursor: pointer;\n",
              "      display: none;\n",
              "      fill: #1967D2;\n",
              "      height: 32px;\n",
              "      padding: 0 0 0 0;\n",
              "      width: 32px;\n",
              "    }\n",
              "\n",
              "    .colab-df-convert:hover {\n",
              "      background-color: #E2EBFA;\n",
              "      box-shadow: 0px 1px 2px rgba(60, 64, 67, 0.3), 0px 1px 3px 1px rgba(60, 64, 67, 0.15);\n",
              "      fill: #174EA6;\n",
              "    }\n",
              "\n",
              "    [theme=dark] .colab-df-convert {\n",
              "      background-color: #3B4455;\n",
              "      fill: #D2E3FC;\n",
              "    }\n",
              "\n",
              "    [theme=dark] .colab-df-convert:hover {\n",
              "      background-color: #434B5C;\n",
              "      box-shadow: 0px 1px 3px 1px rgba(0, 0, 0, 0.15);\n",
              "      filter: drop-shadow(0px 1px 2px rgba(0, 0, 0, 0.3));\n",
              "      fill: #FFFFFF;\n",
              "    }\n",
              "  </style>\n",
              "\n",
              "      <script>\n",
              "        const buttonEl =\n",
              "          document.querySelector('#df-2aa92442-bf8d-4d9c-a687-ac0f8fa8488c button.colab-df-convert');\n",
              "        buttonEl.style.display =\n",
              "          google.colab.kernel.accessAllowed ? 'block' : 'none';\n",
              "\n",
              "        async function convertToInteractive(key) {\n",
              "          const element = document.querySelector('#df-2aa92442-bf8d-4d9c-a687-ac0f8fa8488c');\n",
              "          const dataTable =\n",
              "            await google.colab.kernel.invokeFunction('convertToInteractive',\n",
              "                                                     [key], {});\n",
              "          if (!dataTable) return;\n",
              "\n",
              "          const docLinkHtml = 'Like what you see? Visit the ' +\n",
              "            '<a target=\"_blank\" href=https://colab.research.google.com/notebooks/data_table.ipynb>data table notebook</a>'\n",
              "            + ' to learn more about interactive tables.';\n",
              "          element.innerHTML = '';\n",
              "          dataTable['output_type'] = 'display_data';\n",
              "          await google.colab.output.renderOutput(dataTable, element);\n",
              "          const docLink = document.createElement('div');\n",
              "          docLink.innerHTML = docLinkHtml;\n",
              "          element.appendChild(docLink);\n",
              "        }\n",
              "      </script>\n",
              "    </div>\n",
              "  </div>\n"
            ]
          },
          "metadata": {},
          "execution_count": 27
        }
      ]
    },
    {
      "cell_type": "code",
      "source": [
        "terrorism_df.columns.unique()"
      ],
      "metadata": {
        "colab": {
          "base_uri": "https://localhost:8080/"
        },
        "id": "SV1nLWkJq2kz",
        "outputId": "3a7c4d36-a3f7-4a5d-e43c-f3650accc263"
      },
      "execution_count": 28,
      "outputs": [
        {
          "output_type": "execute_result",
          "data": {
            "text/plain": [
              "Index(['Year', 'Month', 'Day', 'Country', 'Region', 'State', 'City',\n",
              "       'Attack_type', 'Target_type', 'Target_subtype', 'Gang_name',\n",
              "       'Weapon_type'],\n",
              "      dtype='object')"
            ]
          },
          "metadata": {},
          "execution_count": 28
        }
      ]
    },
    {
      "cell_type": "code",
      "source": [
        "terrorism_df.columns.nunique()"
      ],
      "metadata": {
        "colab": {
          "base_uri": "https://localhost:8080/"
        },
        "id": "9py04_ISq5-v",
        "outputId": "6728b2cb-90a8-4428-9af8-0230382c5a4b"
      },
      "execution_count": 29,
      "outputs": [
        {
          "output_type": "execute_result",
          "data": {
            "text/plain": [
              "12"
            ]
          },
          "metadata": {},
          "execution_count": 29
        }
      ]
    },
    {
      "cell_type": "code",
      "source": [
        "Total_countries=terrorism_df['Country'].nunique()\n",
        "print(\"Total %d countries were noted in the data\"%Total_countries)"
      ],
      "metadata": {
        "colab": {
          "base_uri": "https://localhost:8080/"
        },
        "id": "IXJHefaSq8Tk",
        "outputId": "34a47943-c2a3-43a4-f81b-102682063f1c"
      },
      "execution_count": 30,
      "outputs": [
        {
          "output_type": "stream",
          "name": "stdout",
          "text": [
            "Total 102 countries were noted in the data\n"
          ]
        }
      ]
    },
    {
      "cell_type": "code",
      "source": [
        "print(terrorism_df['Region'].unique())"
      ],
      "metadata": {
        "colab": {
          "base_uri": "https://localhost:8080/"
        },
        "id": "HwjQHLlxq8pQ",
        "outputId": "767559b4-4d78-4e31-8a8a-52e558061b92"
      },
      "execution_count": 31,
      "outputs": [
        {
          "output_type": "stream",
          "name": "stdout",
          "text": [
            "['Central America & Caribbean' 'North America' 'Southeast Asia'\n",
            " 'Western Europe' 'East Asia' 'South America' 'Eastern Europe'\n",
            " 'Sub-Saharan Africa' 'Middle East & North Africa' 'Australasia & Oceania'\n",
            " 'South Asia']\n"
          ]
        }
      ]
    },
    {
      "cell_type": "code",
      "source": [
        "print(terrorism_df['Attack_type'].unique())"
      ],
      "metadata": {
        "colab": {
          "base_uri": "https://localhost:8080/"
        },
        "id": "JTEAKxXhrBZF",
        "outputId": "28178e24-5ac4-4766-bb11-00c73e4283ef"
      },
      "execution_count": 32,
      "outputs": [
        {
          "output_type": "stream",
          "name": "stdout",
          "text": [
            "['Assassination' 'Hostage Taking (Kidnapping)' 'Bombing/Explosion'\n",
            " 'Facility/Infrastructure Attack' 'Armed Assault' 'Hijacking' 'Unknown'\n",
            " 'Unarmed Assault' 'Hostage Taking (Barricade Incident)']\n"
          ]
        }
      ]
    },
    {
      "cell_type": "code",
      "source": [
        "print(terrorism_df['Target_type'].unique())"
      ],
      "metadata": {
        "colab": {
          "base_uri": "https://localhost:8080/"
        },
        "id": "iRljacHarE8D",
        "outputId": "95adede9-4b75-4a92-89c6-731f94ca735c"
      },
      "execution_count": 33,
      "outputs": [
        {
          "output_type": "stream",
          "name": "stdout",
          "text": [
            "['Private Citizens & Property' 'Government (Diplomatic)'\n",
            " 'Journalists & Media' 'Police' 'Utilities' 'Military'\n",
            " 'Government (General)' 'Airports & Aircraft' 'Business'\n",
            " 'Educational Institution' 'Violent Political Party'\n",
            " 'Religious Figures/Institutions' 'Unknown' 'Transportation' 'Tourists'\n",
            " 'NGO' 'Telecommunication' 'Food or Water Supply'\n",
            " 'Terrorists/Non-State Militia' 'Other' 'Maritime' 'Abortion Related']\n"
          ]
        }
      ]
    },
    {
      "cell_type": "code",
      "source": [
        "print(terrorism_df['Gang_name'].unique())"
      ],
      "metadata": {
        "colab": {
          "base_uri": "https://localhost:8080/"
        },
        "id": "4n06bZGOrH_5",
        "outputId": "f17c6906-aa46-4858-ec9c-5d00fd03c514"
      },
      "execution_count": 34,
      "outputs": [
        {
          "output_type": "stream",
          "name": "stdout",
          "text": [
            "['MANO-D' '23rd of September Communist League' 'Unknown'\n",
            " 'Black Nationalists' 'Tupamaros (Uruguay)' \"New Year's Gang\"\n",
            " 'Weather Underground, Weathermen' 'Left-Wing Militants'\n",
            " 'Armed Commandos of Liberation' 'Commune 1' 'Eritrean Liberation Front'\n",
            " 'Strikers' 'Student Radicals' 'White extremists'\n",
            " 'Armed Forces of National Liberation- Venezuela (FALN)'\n",
            " \"New People's Army (NPA)\"\n",
            " 'Armed Revolutionary Independence Movement (MIRA)'\n",
            " 'Popular Front for the Liberation of Palestine (PFLP)'\n",
            " 'Popular Front for the Liberation of Palestine, Gen Cmd (PFLP-GC)'\n",
            " '1st of May Group' 'Rebel Armed Forces of Guatemala (FAR)' 'Ku Klux Klan'\n",
            " 'Popular Revolutionary Vanguard (VPR)' 'Revolutionary Force 9'\n",
            " 'Puerto Rican Nationalists' 'Chicano Liberation Front'\n",
            " 'Puerto Rican Resistance Movement' 'Black Panthers'\n",
            " 'Dominican Popular Movement (MPD)' 'Argentine Liberation Front (FAL)'\n",
            " 'Argentine National Organization Movement (MANO)'\n",
            " 'Japanese Red Army (JRA)' 'Saor Eire (Irish Republican Group)'\n",
            " 'New World Liberation Front (NWLF)' 'Cuban Exiles'\n",
            " 'The World United Formosans for Independence (WUFI)' 'Palestinians'\n",
            " 'Extraparliamentary Opposition (APO)' 'Revolutionary Force 26'\n",
            " 'Black Afro Militant Movement' 'Stop the War Coalition' 'Cuban Action'\n",
            " 'Jewish Defense League (JDL)' 'Right-wing extremists'\n",
            " 'Montoneros (Argentina)' 'Kabataang Makabayan (KM)'\n",
            " 'Irish Republican Army (IRA)' 'Ulster Volunteer Force (UVF)'\n",
            " 'National Committee to Combat Fascism' 'Revolutionary Force Seven'\n",
            " 'Seattle Liberation Front' 'Ejercito de Liberacion Nacional (Bolivia)'\n",
            " 'Arabs' 'Sandinista National Liberation Front (FSLN)'\n",
            " \"American Servicemen's Union (ASU)\" 'GAC'\n",
            " 'Revolutionary Armed Forces- Argentina (FAR-A)' 'South Moluccans'\n",
            " 'Croatian Nationalists' 'SFT' 'Jonathan Jackson Brigade'\n",
            " 'Peronist Armed Forces (FAP)' 'White Panther Party'\n",
            " 'Revolutionary Action Party' \"Turkish People's Liberation Army\"\n",
            " 'Ejercito Revolucionaria del Pueblo (ERP) (Argentina)'\n",
            " 'Palestine Liberation Organization (PLO)' 'Welsh Extremists'\n",
            " 'Protestant extremists' 'Siah KAL'\n",
            " \"Turkish People's Liberation Front (TPLF)(THKP-C)\" 'Neo-Nazi extremists'\n",
            " 'Front de Liberation du Quebec (FLQ)' 'Quartermoon Society'\n",
            " 'Students for a Democratic Society (SDS) (German)' 'Iranians'\n",
            " 'Black Liberation Army' 'Baader-Meinhof Group'\n",
            " 'Basque Fatherland and Freedom (ETA)' 'Irish Republican Extremists'\n",
            " \"Socialist Patients' Collective (SPK)\"\n",
            " 'Revolutionary Committee of Mozambique (COREMO)' 'Tony El Pelou Band'\n",
            " 'BAY Bombers' 'Movement of the Revolutionary Left (MIR) (Venezuela)'\n",
            " 'Official Irish Republican Army (OIRA)' 'Catalan Liberation Front (FAC)'\n",
            " 'Black Cells' 'Secret Cuban Government' 'Students' 'RYF'\n",
            " 'Black Revolutionary Assault Team' 'Left-wing extremists'\n",
            " \"People's Revolutionary Party\" 'Chicano Radicals'\n",
            " 'Students for a Democratic Society' 'Regulators'\n",
            " 'Revolutionary Communist League (LCR) (Spain)' 'Black September'\n",
            " 'Al-Fatah' 'Anti-Communist extremists' 'Iranian extremists'\n",
            " 'Sons of Liberty' 'Puerto Rican Liberation Front' '2nd of June Movement'\n",
            " 'Jewish Armed Resistance' 'Comrades in Arms' 'Secret Army Organization'\n",
            " 'Red Hand Commandos' \"People's Liberation Army (United States)\"\n",
            " 'Jordanian National Liberation Movement' 'Ulster Freedom Fighters (UFF)'\n",
            " 'Young Cuba' 'Turkish Leftists'\n",
            " 'Comite Argentino de Lucha Anti-Imperialisto' 'Mujahedin-e Khalq (MEK)'\n",
            " 'Red Flag (Venezuela)' 'National Front for the Liberation of Cuba (FLNC)'\n",
            " 'OPR-33' 'Puerto Rican Revolutionary Movement'\n",
            " 'Popular Revolutionary Resistance Group'\n",
            " 'Masada, Action and Defense Movement' 'Iberian Liberation Movement (MIL)'\n",
            " 'National Liberation Army of Colombia (ELN)'\n",
            " 'National Integration Front (FIN)'\n",
            " 'Resistance, Liberation and Independence Organization (AAA)'\n",
            " 'Republic of New Afrika' 'Red June of 14 June'\n",
            " 'Popular Liberation Army (EPL)' 'Black Muslims'\n",
            " 'Coalition of National Brigades' 'Armenians'\n",
            " 'International Revolutionary Action Group (GARI)' 'Black December'\n",
            " 'American Indian Movement' 'Greek Anti-Dictatorial Youth (EAN)'\n",
            " 'Front for Armenian Liberation' 'Shan Insurgents'\n",
            " 'National Youth Resistance Organization'\n",
            " 'Revolutionary Patriotic Anti-Fascist Front (FRAP)'\n",
            " 'Revolutionary Student Front' 'Zero Point'\n",
            " 'Armed Proletarian Nuclei (NAP)' 'Red Cell' 'Proletarian Action Group'\n",
            " 'Lebanese Socialist Revolutionary Organization' 'Zebra killers'\n",
            " 'Armenian Group' 'Symbionese Liberation Army (SLA)' 'Revolutionary Cells'\n",
            " 'Revolutionary Peoples Army' 'Red Brigades' 'Muslim Guerrillas'\n",
            " 'Breton Liberation Front (FLB)' \"People's Resistance Organized Army\"\n",
            " 'Americans for Justice' \"People's Liberation Army (Mexico)\"\n",
            " 'Corsican National Liberation Front (FLNC)' 'Secret Organization Zero'\n",
            " 'Justice Guerrillas' 'National Liberation Front of Chad' 'RVA'\n",
            " \"People's Revolutionary Army (ERP) (El Salvador)\"\n",
            " 'Democratic Front for the Liberation of Palestine (DFLP)' 'Black Order'\n",
            " 'Revolutionary Arab Youth Organization'\n",
            " 'Organization of the Sons of Occupied Territories' 'Krause Group'\n",
            " 'Popular Resistance Sabotage Group' 'Jewish Extremists'\n",
            " 'Fuerzas Armadas de Liberacion Nacional (FALN)'\n",
            " 'Anti-Government extremists' 'M-7' 'Arab Communist Organization'\n",
            " 'Korean Youth League' 'Condor' 'M12J'\n",
            " 'Argentine Anticommunist Alliance (AAA)' 'Protestant Action Group'\n",
            " 'Red Flag' 'Cuban C-4 Movement'\n",
            " 'United Popular Liberation Army of America'\n",
            " 'Maruseido (Marxist Youth League)' 'Revolutionary Vanguard'\n",
            " 'Latin America Anti-Communist Army (LAACA)' 'Youth Action Group'\n",
            " 'Raul Sendic International Brigade'\n",
            " 'First of October Antifascist Resistance Group (GRAPO)' 'Ananda Marga'\n",
            " 'Armenian Secret Army for the Liberation of Armenia'\n",
            " 'Maskini Liberation Front' 'Omega-7' 'Continental Revolutionary Army'\n",
            " 'National Socialist Liberation Front'\n",
            " 'International Revolutionary Solidarity'\n",
            " 'Prisoner  Gourgen Yanikian Group' 'National Awami Party'\n",
            " 'New Order- France' 'Movement for Cuban Justice (Pragmatistas)'\n",
            " 'Irish National Liberation Army (INLA)'\n",
            " 'East Asia Anti Japanese Armed Front'\n",
            " 'National Organization of Cypriot Fighters (EOKA)'\n",
            " 'Canary Islands Independence Movement'\n",
            " 'Revolutionary Armed Forces of Colombia (FARC)' 'Sixth of March Group'\n",
            " 'Mahir Cayan Suicide Group'\n",
            " 'Front for the Liberation of the French Somali Coast'\n",
            " 'Red Guerilla Family' 'Charles Martel Group' 'Phalange'\n",
            " \"People's Liberation Army (Northern Ireland)\" 'Meinhof-Puig-Antich Group'\n",
            " 'The Scorpion' \"People's Revolutionary Party (Tanzania)\"\n",
            " 'Nationalist Intervention Group' 'George Jackson Brigade'\n",
            " 'Anti-Terrorism ETA (ATE)'\n",
            " 'Movement of the Revolutionary Left (MIR) (Peru)' 'Tribal Thumb'\n",
            " 'Okinawa Liberation League' 'Moro National Liberation Front (MNLF)'\n",
            " 'Liberation Tigers of Tamil Eelam (LTTE)'\n",
            " 'Fronte Paesanu Corsu di Liberazione (FPCL)'\n",
            " \"South-West Africa People's Organization (SWAPO)\"\n",
            " 'Soldiers of the Algerian Opposition'\n",
            " 'Communist Party of Malaysia- Marxist-Leninist' 'Republican Action Force'\n",
            " 'Supporters of Charles Manson'\n",
            " 'Revolutionary Internationalist Solidarity' 'Army for Freeing Scotland'\n",
            " 'Military Liberation Front of Colombia' 'United Freedom Front (UFF)'\n",
            " 'Armed Nucleus for Popular Autonomy' 'Commando 27 September'\n",
            " 'Youth of the Star' 'Justice Commandos for the Armenian Genocide'\n",
            " 'Guerrilla Army of the Poor (EGP)' 'Portuguese Liberation Army'\n",
            " 'League of the 18' 'Polisario Front' 'Coup plotters'\n",
            " 'M-19 (Movement of April 19)' 'Revolutionary Command'\n",
            " 'United Liberation Front for the New Algeria'\n",
            " \"Revolutionary People's Struggle (ELA)\"\n",
            " 'Coordination of the United Revolutionary Organization (CORU)'\n",
            " 'Armed Communist Struggle' 'Cuban extremists'\n",
            " 'Armed Communist Formations' 'Portuguese Anti-Communist Movement'\n",
            " 'Continuous Struggle' 'Tigray Peoples Liberation Front (TPLF)'\n",
            " 'Combat Territory Groups' \"Fred Hampton Unit of the People's Forces\"\n",
            " 'Save Our Israel Land' 'Muslim Rebels' 'Commando Heinz Neumann'\n",
            " 'Proletarian Resistance Movement' 'Communist Combat Unit'\n",
            " 'Socialist Labor Party of Lebanon'\n",
            " 'Political Military Organization of Paraguay'\n",
            " 'Armed Forces of National Resistance (FARN)'\n",
            " 'Revolutionary Workers Party of Bolivia (PRTB)'\n",
            " 'Italian Social Movement (MSI)'\n",
            " 'Movement of the Revolutionary Left (MIR) (Chile)'\n",
            " 'Roberto Santucho Revolutionary Group' 'Che Guevara Brigade' 'Cypriot'\n",
            " 'Prolitarian Internationalism' 'Anti-Castro Command'\n",
            " 'Brazilian Anti-Communist Alliance (AAB)' 'Union Guerrera Blanca (UGB)'\n",
            " 'Croatian Freedom Fighters' 'Anti-Zionist Commandos'\n",
            " 'Abu Nidal Organization (ANO)' 'Cuban Secret Army'\n",
            " 'Rezi Rezai International Brigades'\n",
            " 'Commandos Against Self Destruction of the Universe' 'Workers Power'\n",
            " 'Communist Fighting Unit' 'Prima Linea'\n",
            " 'African National Congress (South Africa)'\n",
            " 'Independent Armed Revolutionary Commandos (CRIA)'\n",
            " 'May 19 Communist Order' 'Communist Brigade Dante Dimani'\n",
            " 'Waltraud Boock Group' 'November 17 Revolutionary Organization (N17RO)'\n",
            " 'Communists' 'Organization of Anti-Fascist Students'\n",
            " 'Kurdish Democratic Party-Iraq (KDP)'\n",
            " 'Military Council for the True Liberation of Albania' 'AGEL'\n",
            " 'Tribal Battlefront' 'Basque Rectitudes' 'Armed Proletarian Power'\n",
            " 'Lolita Lebron Puerto Rican Liberation Command' 'New Partisans Movement'\n",
            " 'Front for the Liberation of the Enclave of Cabinda (FLEC)'\n",
            " 'Anti-Government Group' 'Arya' 'Revolutionary Workers Party'\n",
            " 'Falangist Security Group' 'New Order' 'Armed Struggle for Communism'\n",
            " 'Communist Brigades' 'Armed Squads for Communism'\n",
            " 'Anti-Abortion extremists' 'African-American extremists' 'Hanafi Muslims'\n",
            " 'Combat Brigades' 'Front For the Liberation of the Azores'\n",
            " 'Somali Guerrillas' 'Marxist-Leninist Armed Propaganda Unit'\n",
            " 'Revolutionary Action' 'Soviet and Cuban-backed rebels/mercenaries'\n",
            " 'Falange' 'Revolutionary Commandos of Solidarity'\n",
            " 'Action Front for the Liberation of the Baltic Countries'\n",
            " 'Committee for the Defense of Italian Workers in France'\n",
            " \"People's Liberation Forces (FPL)\" 'Rote Zora' 'Environmental Life Force'\n",
            " 'Fighters for Communism' 'Luis Boitel Commandos'\n",
            " '28 May Armenian Organization' 'Kentavros'\n",
            " 'Sanidila Secessionist Movement' 'Communist Fighters Group'\n",
            " 'Armed Brigades' 'Gay Liberation Front' 'Communist Progress'\n",
            " 'Solidarist Resistance Movement'\n",
            " 'Pattani United Liberation Organization (PULO)' 'Red Guerrilla'\n",
            " 'Fighting Workers for Communism' 'Armed Communist Nucleus'\n",
            " 'Combatent Communists' 'Communist Fighting Nuclei'\n",
            " 'Armed Radical Groups for Communism' 'Armed Groups for Communism'\n",
            " 'Worker Counterpower' 'Proletarian Patrols' 'Pedro Leon Arboleda (PLA)'\n",
            " 'Armed Proletarian Groups for Communism' 'Vyborg Brigade'\n",
            " 'Avengers of Peiper Group' 'Territorial Communist Units'\n",
            " 'Proletarian Fighting Brigades' 'Union of the People (UDP)'\n",
            " 'Revolutionary Action Front' 'Tonino Micciche Workers Nucleus'\n",
            " 'Organized Proletarian Communists' 'Nucleus of the Armed Struggle'\n",
            " 'Commando Adolph Hitler' 'Universal Liberation Front'\n",
            " 'Young Brigade of Navarro' 'Revolutionary Commandos of the People (CRP)'\n",
            " 'Red Army Faction (RAF)' 'Armed Fighting Nucleus For Communism'\n",
            " 'Armed Struggle for Proletarian Power' 'Armed Communist Commando'\n",
            " 'Fighting Nucleus for Communism' 'Communist Armed Nucleus'\n",
            " 'Universal Proutist Revolutionary Federation' 'Fighting Communist Front'\n",
            " 'Breton Separatists' 'Combat Nucleus of Communist Unity'\n",
            " 'Fighting Proletarian Squads' 'Afar rebels' 'Free Aceh Movement (GAM)'\n",
            " 'Greek National Socialist Organization' 'Delta Group'\n",
            " 'Armed Workers Squads' 'Armed Nucleus of Communist Workers'\n",
            " 'Proletarian Armed Squads' 'Armed Proletarian Patrols'\n",
            " 'Radical Communist Armed Nucleus'\n",
            " 'Armed Commandos in the Fighting Army of Mario Zichieri'\n",
            " 'Guerrillas of Christ the King'\n",
            " 'Confederation of Iranian Students/National Union (CISNU)'\n",
            " 'Armed Fight for Communism' 'Khristos Kasimis'\n",
            " 'Communist Fighting Corunim- Maria Anna Maria'\n",
            " 'Worker Autonomy, Continuous Struggle' 'Fanatical Ecologists'\n",
            " 'Popular Revolutionary Movement (Colombia)' 'Fighting Popular Rally'\n",
            " 'PORE' 'Christ Chaos' 'Committee of action against bull fights'\n",
            " '28th of December Group' 'Armed Revolutionary Groups'\n",
            " 'Arab Revolutionary Army' 'International Communist Brigade'\n",
            " 'Armed Revolutionary Nuclei (NAR)'\n",
            " 'Armed Nuclei for Territorial Counterpower'\n",
            " 'Southern Nucleus of Communist Counterpower'\n",
            " 'Iberian Anarchist Federation' 'Anti Shah of Iran' 'Breton Terrorist'\n",
            " 'Zimbabwe African Nationalist Union (ZANU)'\n",
            " 'Anti-Imperialist Fighters for a Free Palestine'\n",
            " 'Catalan independence group' 'Begumcans Cell'\n",
            " 'Argentine Youths for Sovereignty'\n",
            " \"Revolutionary Workers' Council (Kakurokyo)\"\n",
            " 'Popular Revolutionary Bloc (BPR)' 'Revolutionary Communist Party'\n",
            " 'Jewish Committee of Concern' 'Anti-Castro Group'\n",
            " 'Communist Fighters Association' 'Armed Proletarian Squads'\n",
            " 'Anti-Israeli extremists' 'Aryan Brotherhood' 'Autonomous Students'\n",
            " 'Anti-Imperialistic Communist Revolutionaries'\n",
            " 'Communist Fighting Detachments' 'Fuerza Nueva' 'Armed Workers Nuclei'\n",
            " 'Armed Womens Nuclei' 'Armed Proletarian Group'\n",
            " 'Armed Fight for Workers Power' 'Fighting Women'\n",
            " 'Armed Nuclei for Communism'\n",
            " 'Commandos for the Defense of Western Civilization' 'Proletarian Nucleus'\n",
            " 'Marxist Resistance Movement' 'Trinitarians' 'Airport Protesters'\n",
            " 'Column 88' 'Independent Peasants Union' 'Red Tribune'\n",
            " 'Syndicalist Action Groups'\n",
            " 'Front for the National Liberation of Puerto Rico' 'Red Flying Squad'\n",
            " 'Communist Anti-Imperialistic Revolutionaries' 'Abstentionist Brigades'\n",
            " 'Falangist Vanguard' 'Unified Workers Command'\n",
            " 'Chukakuha (Middle Core Faction)' 'Left-Wing Terrorists'\n",
            " 'Armed Proletarian Formations' 'Irian Jaya Rebels'\n",
            " 'Supporters of presidential candidate Belisario Bet' 'Revolutionary Army'\n",
            " 'Anti-Technology extremists' 'Action Group for Communism'\n",
            " 'Front of French National Liberation' \"Zimbabwe African People's Union\"\n",
            " 'Revolutionary Anarchist Armed Terrorist Movement' 'Death Squad' 'AFB'\n",
            " 'Anti-Imperialist Students Council' 'Brigadas Rojas' 'Ahmad Jibril'\n",
            " 'Shining Path (SL)' 'Macheteros' 'Khmer Rouge'\n",
            " 'Peruvian Anti-Communist Alliance (AAP)' 'Zimbabwe Guerrillas'\n",
            " 'Mano Blanca' \"Zimbabwe People's Army (ZIPA)\"\n",
            " 'Broad Commando of National Liberation' 'Guatemalan Labor Party (PGT)'\n",
            " 'Otpor' 'International Anti-Communist Intelligence Service'\n",
            " 'Right-Wing Group' 'Red Guard' 'Red Resistance Front'\n",
            " 'Idealist Association' 'Secret Anti-Communist Army (ESA)'\n",
            " 'United Popular Action Front (FAPU)'\n",
            " 'National Union for the Total Independence of Angola (UNITA)'\n",
            " 'Proletarian Combatants for Communism' 'Muslims'\n",
            " \"People's Armed Revolutionary Branch\" 'New Jewish Defense League'\n",
            " 'Communist Attack Brigades'\n",
            " 'Farabundo Marti National Liberation Front (FMLN)' \"People's Temple\"\n",
            " 'Lebanese Free Will Movement' 'Guerrillas'\n",
            " 'International Mercenary Brigade' 'Right Wing Christian extremists'\n",
            " 'ATALA' \"Workers' Self-Defense Movement (MAO)\" 'New Armenian Resistance'\n",
            " 'Terrorists' 'Armed Anti-Imperialist Movement'\n",
            " 'Miguel Angel Cabrera Command' 'American Anticommunist Association (AAA)'\n",
            " 'Corsican Nationalists' 'Zimbabwe Patriotic Front'\n",
            " 'Combatant Nucleus for Communism' 'National Defense Youth Corps'\n",
            " 'Combatant Communist Front' 'Basque terrorists'\n",
            " \"Workers' Organization for Communism\"\n",
            " 'Spanish Basque Battalion (BBE) (rightist)'\n",
            " 'Politico-Military Revolutionary Command'\n",
            " 'Cambodian National Front for National Salvation'\n",
            " \"People's Army (Myanmar)\" 'Shan State Progressive Party'\n",
            " \"People's Army (Nicaragua)\" nan]\n"
          ]
        }
      ]
    },
    {
      "cell_type": "code",
      "source": [
        "print(terrorism_df['Gang_name'].nunique())"
      ],
      "metadata": {
        "colab": {
          "base_uri": "https://localhost:8080/"
        },
        "id": "KJTP1PlzrIHp",
        "outputId": "47552015-3d06-4a3a-e3fd-b8f3bbf85ba5"
      },
      "execution_count": 35,
      "outputs": [
        {
          "output_type": "stream",
          "name": "stdout",
          "text": [
            "504\n"
          ]
        }
      ]
    },
    {
      "cell_type": "code",
      "source": [
        "print(terrorism_df['Weapon_type'].unique())"
      ],
      "metadata": {
        "colab": {
          "base_uri": "https://localhost:8080/"
        },
        "id": "OVFzoFoVrPFA",
        "outputId": "388b9b94-6e51-43bb-986a-4f0634723fe6"
      },
      "execution_count": 36,
      "outputs": [
        {
          "output_type": "stream",
          "name": "stdout",
          "text": [
            "['Unknown' 'Explosives' 'Incendiary' 'Firearms' 'Chemical' 'Melee'\n",
            " 'Sabotage Equipment'\n",
            " 'Vehicle (not to include vehicle-borne explosives, i.e., car or truck bombs)'\n",
            " 'Fake Weapons' 'Radiological' 'Other' nan]\n"
          ]
        }
      ]
    },
    {
      "cell_type": "code",
      "source": [
        "terrorism_df.info()"
      ],
      "metadata": {
        "colab": {
          "base_uri": "https://localhost:8080/"
        },
        "id": "EcAEpOrMrRac",
        "outputId": "1114eab0-05f2-4e9c-9377-3202b5938c6f"
      },
      "execution_count": 37,
      "outputs": [
        {
          "output_type": "stream",
          "name": "stdout",
          "text": [
            "<class 'pandas.core.frame.DataFrame'>\n",
            "RangeIndex: 7316 entries, 0 to 7315\n",
            "Data columns (total 12 columns):\n",
            " #   Column          Non-Null Count  Dtype \n",
            "---  ------          --------------  ----- \n",
            " 0   Year            7316 non-null   int64 \n",
            " 1   Month           7316 non-null   int64 \n",
            " 2   Day             7316 non-null   int64 \n",
            " 3   Country         7316 non-null   object\n",
            " 4   Region          7316 non-null   object\n",
            " 5   State           7316 non-null   object\n",
            " 6   City            7316 non-null   object\n",
            " 7   Attack_type     7316 non-null   object\n",
            " 8   Target_type     7316 non-null   object\n",
            " 9   Target_subtype  7316 non-null   object\n",
            " 10  Gang_name       7315 non-null   object\n",
            " 11  Weapon_type     7315 non-null   object\n",
            "dtypes: int64(3), object(9)\n",
            "memory usage: 686.0+ KB\n"
          ]
        }
      ]
    },
    {
      "cell_type": "code",
      "source": [
        "terrorism_df.describe()"
      ],
      "metadata": {
        "colab": {
          "base_uri": "https://localhost:8080/",
          "height": 300
        },
        "id": "t6tPDeBLrTWt",
        "outputId": "bf70642a-b062-4297-a597-10ee5a0e8413"
      },
      "execution_count": 38,
      "outputs": [
        {
          "output_type": "execute_result",
          "data": {
            "text/plain": [
              "              Year        Month          Day\n",
              "count  7316.000000  7316.000000  7316.000000\n",
              "mean   1975.003417     6.523237    15.129579\n",
              "std       2.675243     3.477868     9.053688\n",
              "min    1970.000000     0.000000     0.000000\n",
              "25%    1973.000000     3.000000     7.000000\n",
              "50%    1976.000000     6.000000    15.000000\n",
              "75%    1977.000000    10.000000    23.000000\n",
              "max    1979.000000    12.000000    31.000000"
            ],
            "text/html": [
              "\n",
              "\n",
              "  <div id=\"df-e1d667ec-3366-4a7b-8125-88f5648146ea\">\n",
              "    <div class=\"colab-df-container\">\n",
              "      <div>\n",
              "<style scoped>\n",
              "    .dataframe tbody tr th:only-of-type {\n",
              "        vertical-align: middle;\n",
              "    }\n",
              "\n",
              "    .dataframe tbody tr th {\n",
              "        vertical-align: top;\n",
              "    }\n",
              "\n",
              "    .dataframe thead th {\n",
              "        text-align: right;\n",
              "    }\n",
              "</style>\n",
              "<table border=\"1\" class=\"dataframe\">\n",
              "  <thead>\n",
              "    <tr style=\"text-align: right;\">\n",
              "      <th></th>\n",
              "      <th>Year</th>\n",
              "      <th>Month</th>\n",
              "      <th>Day</th>\n",
              "    </tr>\n",
              "  </thead>\n",
              "  <tbody>\n",
              "    <tr>\n",
              "      <th>count</th>\n",
              "      <td>7316.000000</td>\n",
              "      <td>7316.000000</td>\n",
              "      <td>7316.000000</td>\n",
              "    </tr>\n",
              "    <tr>\n",
              "      <th>mean</th>\n",
              "      <td>1975.003417</td>\n",
              "      <td>6.523237</td>\n",
              "      <td>15.129579</td>\n",
              "    </tr>\n",
              "    <tr>\n",
              "      <th>std</th>\n",
              "      <td>2.675243</td>\n",
              "      <td>3.477868</td>\n",
              "      <td>9.053688</td>\n",
              "    </tr>\n",
              "    <tr>\n",
              "      <th>min</th>\n",
              "      <td>1970.000000</td>\n",
              "      <td>0.000000</td>\n",
              "      <td>0.000000</td>\n",
              "    </tr>\n",
              "    <tr>\n",
              "      <th>25%</th>\n",
              "      <td>1973.000000</td>\n",
              "      <td>3.000000</td>\n",
              "      <td>7.000000</td>\n",
              "    </tr>\n",
              "    <tr>\n",
              "      <th>50%</th>\n",
              "      <td>1976.000000</td>\n",
              "      <td>6.000000</td>\n",
              "      <td>15.000000</td>\n",
              "    </tr>\n",
              "    <tr>\n",
              "      <th>75%</th>\n",
              "      <td>1977.000000</td>\n",
              "      <td>10.000000</td>\n",
              "      <td>23.000000</td>\n",
              "    </tr>\n",
              "    <tr>\n",
              "      <th>max</th>\n",
              "      <td>1979.000000</td>\n",
              "      <td>12.000000</td>\n",
              "      <td>31.000000</td>\n",
              "    </tr>\n",
              "  </tbody>\n",
              "</table>\n",
              "</div>\n",
              "      <button class=\"colab-df-convert\" onclick=\"convertToInteractive('df-e1d667ec-3366-4a7b-8125-88f5648146ea')\"\n",
              "              title=\"Convert this dataframe to an interactive table.\"\n",
              "              style=\"display:none;\">\n",
              "\n",
              "  <svg xmlns=\"http://www.w3.org/2000/svg\" height=\"24px\"viewBox=\"0 0 24 24\"\n",
              "       width=\"24px\">\n",
              "    <path d=\"M0 0h24v24H0V0z\" fill=\"none\"/>\n",
              "    <path d=\"M18.56 5.44l.94 2.06.94-2.06 2.06-.94-2.06-.94-.94-2.06-.94 2.06-2.06.94zm-11 1L8.5 8.5l.94-2.06 2.06-.94-2.06-.94L8.5 2.5l-.94 2.06-2.06.94zm10 10l.94 2.06.94-2.06 2.06-.94-2.06-.94-.94-2.06-.94 2.06-2.06.94z\"/><path d=\"M17.41 7.96l-1.37-1.37c-.4-.4-.92-.59-1.43-.59-.52 0-1.04.2-1.43.59L10.3 9.45l-7.72 7.72c-.78.78-.78 2.05 0 2.83L4 21.41c.39.39.9.59 1.41.59.51 0 1.02-.2 1.41-.59l7.78-7.78 2.81-2.81c.8-.78.8-2.07 0-2.86zM5.41 20L4 18.59l7.72-7.72 1.47 1.35L5.41 20z\"/>\n",
              "  </svg>\n",
              "      </button>\n",
              "\n",
              "\n",
              "\n",
              "    <div id=\"df-f2b04b84-7efa-4824-9c25-b0b98539ae85\">\n",
              "      <button class=\"colab-df-quickchart\" onclick=\"quickchart('df-f2b04b84-7efa-4824-9c25-b0b98539ae85')\"\n",
              "              title=\"Suggest charts.\"\n",
              "              style=\"display:none;\">\n",
              "\n",
              "<svg xmlns=\"http://www.w3.org/2000/svg\" height=\"24px\"viewBox=\"0 0 24 24\"\n",
              "     width=\"24px\">\n",
              "    <g>\n",
              "        <path d=\"M19 3H5c-1.1 0-2 .9-2 2v14c0 1.1.9 2 2 2h14c1.1 0 2-.9 2-2V5c0-1.1-.9-2-2-2zM9 17H7v-7h2v7zm4 0h-2V7h2v10zm4 0h-2v-4h2v4z\"/>\n",
              "    </g>\n",
              "</svg>\n",
              "      </button>\n",
              "    </div>\n",
              "\n",
              "<style>\n",
              "  .colab-df-quickchart {\n",
              "    background-color: #E8F0FE;\n",
              "    border: none;\n",
              "    border-radius: 50%;\n",
              "    cursor: pointer;\n",
              "    display: none;\n",
              "    fill: #1967D2;\n",
              "    height: 32px;\n",
              "    padding: 0 0 0 0;\n",
              "    width: 32px;\n",
              "  }\n",
              "\n",
              "  .colab-df-quickchart:hover {\n",
              "    background-color: #E2EBFA;\n",
              "    box-shadow: 0px 1px 2px rgba(60, 64, 67, 0.3), 0px 1px 3px 1px rgba(60, 64, 67, 0.15);\n",
              "    fill: #174EA6;\n",
              "  }\n",
              "\n",
              "  [theme=dark] .colab-df-quickchart {\n",
              "    background-color: #3B4455;\n",
              "    fill: #D2E3FC;\n",
              "  }\n",
              "\n",
              "  [theme=dark] .colab-df-quickchart:hover {\n",
              "    background-color: #434B5C;\n",
              "    box-shadow: 0px 1px 3px 1px rgba(0, 0, 0, 0.15);\n",
              "    filter: drop-shadow(0px 1px 2px rgba(0, 0, 0, 0.3));\n",
              "    fill: #FFFFFF;\n",
              "  }\n",
              "</style>\n",
              "\n",
              "    <script>\n",
              "      async function quickchart(key) {\n",
              "        const containerElement = document.querySelector('#' + key);\n",
              "        const charts = await google.colab.kernel.invokeFunction(\n",
              "            'suggestCharts', [key], {});\n",
              "      }\n",
              "    </script>\n",
              "\n",
              "      <script>\n",
              "\n",
              "function displayQuickchartButton(domScope) {\n",
              "  let quickchartButtonEl =\n",
              "    domScope.querySelector('#df-f2b04b84-7efa-4824-9c25-b0b98539ae85 button.colab-df-quickchart');\n",
              "  quickchartButtonEl.style.display =\n",
              "    google.colab.kernel.accessAllowed ? 'block' : 'none';\n",
              "}\n",
              "\n",
              "        displayQuickchartButton(document);\n",
              "      </script>\n",
              "      <style>\n",
              "    .colab-df-container {\n",
              "      display:flex;\n",
              "      flex-wrap:wrap;\n",
              "      gap: 12px;\n",
              "    }\n",
              "\n",
              "    .colab-df-convert {\n",
              "      background-color: #E8F0FE;\n",
              "      border: none;\n",
              "      border-radius: 50%;\n",
              "      cursor: pointer;\n",
              "      display: none;\n",
              "      fill: #1967D2;\n",
              "      height: 32px;\n",
              "      padding: 0 0 0 0;\n",
              "      width: 32px;\n",
              "    }\n",
              "\n",
              "    .colab-df-convert:hover {\n",
              "      background-color: #E2EBFA;\n",
              "      box-shadow: 0px 1px 2px rgba(60, 64, 67, 0.3), 0px 1px 3px 1px rgba(60, 64, 67, 0.15);\n",
              "      fill: #174EA6;\n",
              "    }\n",
              "\n",
              "    [theme=dark] .colab-df-convert {\n",
              "      background-color: #3B4455;\n",
              "      fill: #D2E3FC;\n",
              "    }\n",
              "\n",
              "    [theme=dark] .colab-df-convert:hover {\n",
              "      background-color: #434B5C;\n",
              "      box-shadow: 0px 1px 3px 1px rgba(0, 0, 0, 0.15);\n",
              "      filter: drop-shadow(0px 1px 2px rgba(0, 0, 0, 0.3));\n",
              "      fill: #FFFFFF;\n",
              "    }\n",
              "  </style>\n",
              "\n",
              "      <script>\n",
              "        const buttonEl =\n",
              "          document.querySelector('#df-e1d667ec-3366-4a7b-8125-88f5648146ea button.colab-df-convert');\n",
              "        buttonEl.style.display =\n",
              "          google.colab.kernel.accessAllowed ? 'block' : 'none';\n",
              "\n",
              "        async function convertToInteractive(key) {\n",
              "          const element = document.querySelector('#df-e1d667ec-3366-4a7b-8125-88f5648146ea');\n",
              "          const dataTable =\n",
              "            await google.colab.kernel.invokeFunction('convertToInteractive',\n",
              "                                                     [key], {});\n",
              "          if (!dataTable) return;\n",
              "\n",
              "          const docLinkHtml = 'Like what you see? Visit the ' +\n",
              "            '<a target=\"_blank\" href=https://colab.research.google.com/notebooks/data_table.ipynb>data table notebook</a>'\n",
              "            + ' to learn more about interactive tables.';\n",
              "          element.innerHTML = '';\n",
              "          dataTable['output_type'] = 'display_data';\n",
              "          await google.colab.output.renderOutput(dataTable, element);\n",
              "          const docLink = document.createElement('div');\n",
              "          docLink.innerHTML = docLinkHtml;\n",
              "          element.appendChild(docLink);\n",
              "        }\n",
              "      </script>\n",
              "    </div>\n",
              "  </div>\n"
            ]
          },
          "metadata": {},
          "execution_count": 38
        }
      ]
    },
    {
      "cell_type": "code",
      "source": [
        "terrorism_df['Country'].value_counts().head(10)"
      ],
      "metadata": {
        "colab": {
          "base_uri": "https://localhost:8080/"
        },
        "id": "rtl-nhilrVrF",
        "outputId": "dbef73a8-3486-4cae-fc61-0e4cd97bba2d"
      },
      "execution_count": 39,
      "outputs": [
        {
          "output_type": "execute_result",
          "data": {
            "text/plain": [
              "United Kingdom        1407\n",
              "United States         1406\n",
              "Italy                  824\n",
              "Spain                  632\n",
              "Turkey                 343\n",
              "Argentina              314\n",
              "Colombia               282\n",
              "France                 265\n",
              "West Germany (FRG)     256\n",
              "Greece                 134\n",
              "Name: Country, dtype: int64"
            ]
          },
          "metadata": {},
          "execution_count": 39
        }
      ]
    },
    {
      "cell_type": "code",
      "source": [
        "terrorism_df['Region'].value_counts().head(10)"
      ],
      "metadata": {
        "colab": {
          "base_uri": "https://localhost:8080/"
        },
        "id": "GSF795xUrX8W",
        "outputId": "7214fdd6-8c81-489b-a6a3-53179a09dfab"
      },
      "execution_count": 40,
      "outputs": [
        {
          "output_type": "execute_result",
          "data": {
            "text/plain": [
              "Western Europe                 3701\n",
              "North America                  1517\n",
              "South America                   778\n",
              "Middle East & North Africa      639\n",
              "Central America & Caribbean     325\n",
              "Sub-Saharan Africa              120\n",
              "Southeast Asia                  116\n",
              "East Asia                        63\n",
              "Eastern Europe                   25\n",
              "South Asia                       17\n",
              "Name: Region, dtype: int64"
            ]
          },
          "metadata": {},
          "execution_count": 40
        }
      ]
    },
    {
      "cell_type": "code",
      "source": [
        "terrorism_df['State'].value_counts().head(10)"
      ],
      "metadata": {
        "colab": {
          "base_uri": "https://localhost:8080/"
        },
        "id": "O23s_EEKra7d",
        "outputId": "2d20a22a-698d-469c-d1f8-cf1cb2cd017f"
      },
      "execution_count": 41,
      "outputs": [
        {
          "output_type": "execute_result",
          "data": {
            "text/plain": [
              "Northern Ireland    1278\n",
              "California           393\n",
              "New York             336\n",
              "Lazio                307\n",
              "Buenos Aires         227\n",
              "Unknown              203\n",
              "Madrid               159\n",
              "Lombardy             148\n",
              "Paris                136\n",
              "England              124\n",
              "Name: State, dtype: int64"
            ]
          },
          "metadata": {},
          "execution_count": 41
        }
      ]
    },
    {
      "cell_type": "code",
      "source": [
        "terrorism_df['Target_subtype'].value_counts().head(10)"
      ],
      "metadata": {
        "colab": {
          "base_uri": "https://localhost:8080/"
        },
        "id": "QT3vAbYMrdzE",
        "outputId": "91b83c3a-0e4c-4938-d162-60b0f3c53f64"
      },
      "execution_count": 42,
      "outputs": [
        {
          "output_type": "execute_result",
          "data": {
            "text/plain": [
              "Religion Identified                                        513\n",
              "others                                                     419\n",
              "Military Personnel (soldiers, troops, officers, forces)    389\n",
              "Bank/Commerce                                              383\n",
              "Police Security Forces/Officers                            375\n",
              "Retail/Grocery/Bakery                                      369\n",
              "Embassy/Consulate                                          356\n",
              "Government Building/Facility/Office                        282\n",
              "Multinational Corporation                                  266\n",
              "Politician or Political Party Movement/Meeting/Rally       264\n",
              "Name: Target_subtype, dtype: int64"
            ]
          },
          "metadata": {},
          "execution_count": 42
        }
      ]
    },
    {
      "cell_type": "code",
      "source": [
        "terrorism_df['City'].value_counts().head(10)"
      ],
      "metadata": {
        "colab": {
          "base_uri": "https://localhost:8080/"
        },
        "id": "_GgIw0errtpD",
        "outputId": "724830ac-2696-476d-fb28-2f72027e5aa7"
      },
      "execution_count": 45,
      "outputs": [
        {
          "output_type": "execute_result",
          "data": {
            "text/plain": [
              "Belfast          732\n",
              "New York City    317\n",
              "Rome             290\n",
              "Unknown          212\n",
              "Buenos Aires     188\n",
              "Madrid           152\n",
              "Paris            137\n",
              "Athens           121\n",
              "Ankara           115\n",
              "Bogota           106\n",
              "Name: City, dtype: int64"
            ]
          },
          "metadata": {},
          "execution_count": 45
        }
      ]
    },
    {
      "cell_type": "code",
      "source": [
        "terrorism_df['Attack_type'].value_counts().head(10)"
      ],
      "metadata": {
        "colab": {
          "base_uri": "https://localhost:8080/"
        },
        "id": "yXmYZudCrwS0",
        "outputId": "dffd50b9-e313-4de0-c825-c89dc5166176"
      },
      "execution_count": 46,
      "outputs": [
        {
          "output_type": "execute_result",
          "data": {
            "text/plain": [
              "Bombing/Explosion                      3277\n",
              "Assassination                          1490\n",
              "Armed Assault                           989\n",
              "Facility/Infrastructure Attack          908\n",
              "Hostage Taking (Kidnapping)             395\n",
              "Hostage Taking (Barricade Incident)      96\n",
              "Unknown                                  91\n",
              "Hijacking                                52\n",
              "Unarmed Assault                          18\n",
              "Name: Attack_type, dtype: int64"
            ]
          },
          "metadata": {},
          "execution_count": 46
        }
      ]
    },
    {
      "cell_type": "code",
      "source": [
        "terrorism_df['Target_type'].value_counts().head(10)"
      ],
      "metadata": {
        "colab": {
          "base_uri": "https://localhost:8080/"
        },
        "id": "XqVX2KwErzmk",
        "outputId": "f7618617-b03b-4258-996d-93464c00d097"
      },
      "execution_count": 47,
      "outputs": [
        {
          "output_type": "execute_result",
          "data": {
            "text/plain": [
              "Business                       1877\n",
              "Private Citizens & Property    1155\n",
              "Military                        837\n",
              "Government (General)            809\n",
              "Police                          713\n",
              "Government (Diplomatic)         579\n",
              "Airports & Aircraft             225\n",
              "Educational Institution         205\n",
              "Journalists & Media             197\n",
              "Utilities                       151\n",
              "Name: Target_type, dtype: int64"
            ]
          },
          "metadata": {},
          "execution_count": 47
        }
      ]
    },
    {
      "cell_type": "code",
      "source": [
        "terrorism_df['Gang_name'].value_counts().head(10)"
      ],
      "metadata": {
        "colab": {
          "base_uri": "https://localhost:8080/"
        },
        "id": "c0uOlvo2r35G",
        "outputId": "80b4af29-960b-42af-e8c3-b3bad58bcb71"
      },
      "execution_count": 48,
      "outputs": [
        {
          "output_type": "execute_result",
          "data": {
            "text/plain": [
              "Unknown                                          1980\n",
              "Irish Republican Army (IRA)                       820\n",
              "Basque Fatherland and Freedom (ETA)               263\n",
              "Protestant extremists                             188\n",
              "Left-Wing Militants                               169\n",
              "Ulster Volunteer Force (UVF)                      164\n",
              "Red Brigades                                      124\n",
              "Black September                                   120\n",
              "Montoneros (Argentina)                            109\n",
              "Fuerzas Armadas de Liberacion Nacional (FALN)      96\n",
              "Name: Gang_name, dtype: int64"
            ]
          },
          "metadata": {},
          "execution_count": 48
        }
      ]
    },
    {
      "cell_type": "code",
      "source": [
        "terrorism_df['Weapon_type'].value_counts().head(5)"
      ],
      "metadata": {
        "colab": {
          "base_uri": "https://localhost:8080/"
        },
        "id": "t2UI6BD8r7Cy",
        "outputId": "59c40992-9b5e-4cc8-e814-bf2849e9f8af"
      },
      "execution_count": 49,
      "outputs": [
        {
          "output_type": "execute_result",
          "data": {
            "text/plain": [
              "Explosives    3415\n",
              "Firearms      2146\n",
              "Incendiary    1098\n",
              "Unknown        555\n",
              "Melee           64\n",
              "Name: Weapon_type, dtype: int64"
            ]
          },
          "metadata": {},
          "execution_count": 49
        }
      ]
    },
    {
      "cell_type": "markdown",
      "source": [
        "Visualizing the dataset"
      ],
      "metadata": {
        "id": "hsa3HSBQr-sh"
      }
    },
    {
      "cell_type": "markdown",
      "source": [
        "Attack by weapons type"
      ],
      "metadata": {
        "id": "1OYil1fdr_qx"
      }
    },
    {
      "cell_type": "code",
      "source": [
        "plt.figure(figsize=(20,5));\n",
        "plt.xticks(rotation = 50)\n",
        "plt.title('Attacks by Weapons Type', fontsize = 25)\n",
        "sns.countplot(x=terrorism_df.Weapon_type);"
      ],
      "metadata": {
        "colab": {
          "base_uri": "https://localhost:8080/",
          "height": 767
        },
        "id": "VNsvRlVasDCD",
        "outputId": "ba82f903-2ab8-459e-fc5e-cc9cb05260d9"
      },
      "execution_count": 50,
      "outputs": [
        {
          "output_type": "display_data",
          "data": {
            "text/plain": [
              "<Figure size 2000x500 with 1 Axes>"
            ],
            "image/png": "[encoded data removed]"
          },
          "metadata": {}
        }
      ]
    },
    {
      "cell_type": "markdown",
      "source": [
        "Attacks by year"
      ],
      "metadata": {
        "id": "zQUVSs2ksIXJ"
      }
    },
    {
      "cell_type": "code",
      "source": [
        "plt.figure(figsize=(20,5));\n",
        "plt.xticks(rotation = 90)\n",
        "plt.title('Attacks by Year', fontsize = 25)\n",
        "sns.countplot(x=terrorism_df.Year);"
      ],
      "metadata": {
        "colab": {
          "base_uri": "https://localhost:8080/",
          "height": 453
        },
        "id": "ccUXSM5ssFuk",
        "outputId": "e803c0f3-5160-4adc-f27b-3fad71619236"
      },
      "execution_count": 51,
      "outputs": [
        {
          "output_type": "display_data",
          "data": {
            "text/plain": [
              "<Figure size 2000x500 with 1 Axes>"
            ],
            "image/png": "[encoded data removed]"
          },
          "metadata": {}
        }
      ]
    },
    {
      "cell_type": "markdown",
      "source": [
        "Attacks by month"
      ],
      "metadata": {
        "id": "0HyzGkB5sOMR"
      }
    },
    {
      "cell_type": "code",
      "source": [
        "plt.figure(figsize=(20,5));\n",
        "plt.title('Attacks by Month', fontsize = 25)\n",
        "sns.countplot(x=terrorism_df.Month);"
      ],
      "metadata": {
        "colab": {
          "base_uri": "https://localhost:8080/",
          "height": 437
        },
        "id": "biT1cGwesPGw",
        "outputId": "8b9a4faa-3aa7-4c7f-c03a-ba275514896a"
      },
      "execution_count": 52,
      "outputs": [
        {
          "output_type": "display_data",
          "data": {
            "text/plain": [
              "<Figure size 2000x500 with 1 Axes>"
            ],
            "image/png": "[encoded data removed]"
          },
          "metadata": {}
        }
      ]
    },
    {
      "cell_type": "markdown",
      "source": [
        "Attacks by day"
      ],
      "metadata": {
        "id": "UOlhHqtwsSGH"
      }
    },
    {
      "cell_type": "code",
      "source": [
        "plt.figure(figsize=(20,5));\n",
        "plt.title('Attacks by Day', fontsize = 25)\n",
        "sns.countplot(x=terrorism_df.Day);"
      ],
      "metadata": {
        "colab": {
          "base_uri": "https://localhost:8080/",
          "height": 443
        },
        "id": "2rrLfwsbz0eN",
        "outputId": "e59042d6-7786-4c1a-81cf-b9fb31772b5f"
      },
      "execution_count": 69,
      "outputs": [
        {
          "output_type": "display_data",
          "data": {
            "text/plain": [
              "<Figure size 2000x500 with 1 Axes>"
            ],
            "image/png": "[encoded data removed]"
          },
          "metadata": {}
        }
      ]
    },
    {
      "cell_type": "markdown",
      "source": [
        "Attacks by region"
      ],
      "metadata": {
        "id": "XISdc3p0snxS"
      }
    },
    {
      "cell_type": "code",
      "source": [
        "plt.figure(figsize=(28,5));\n",
        "plt.rcParams.update({'font.size':15});\n",
        "plt.xticks(rotation = 90)\n",
        "plt.title('Attacks by Region', fontsize =25)\n",
        "sns.countplot(x=terrorism_df.Region);"
      ],
      "metadata": {
        "colab": {
          "base_uri": "https://localhost:8080/",
          "height": 501
        },
        "id": "p8QwNjTzs2kQ",
        "outputId": "05fab1b1-a722-4873-8b6e-5e567445c2cf"
      },
      "execution_count": 57,
      "outputs": [
        {
          "output_type": "display_data",
          "data": {
            "text/plain": [
              "<Figure size 2800x500 with 1 Axes>"
            ],
            "image/png": "[encoded data removed]"
          },
          "metadata": {}
        }
      ]
    },
    {
      "cell_type": "markdown",
      "source": [
        "Attack based on target type"
      ],
      "metadata": {
        "id": "Pn7GBUACssDi"
      }
    },
    {
      "cell_type": "code",
      "source": [
        "plt.figure(figsize=(20,5));\n",
        "plt.rcParams.update({'font.size':15});\n",
        "plt.xticks(rotation = 90)\n",
        "plt.title('Based on Target type', fontsize =25)\n",
        "sns.countplot(x=terrorism_df.Target_type);"
      ],
      "metadata": {
        "colab": {
          "base_uri": "https://localhost:8080/",
          "height": 677
        },
        "id": "FdVI_KoCsvvz",
        "outputId": "84f8dd66-c7f2-47fc-b572-94bc41a2d9d2"
      },
      "execution_count": 56,
      "outputs": [
        {
          "output_type": "display_data",
          "data": {
            "text/plain": [
              "<Figure size 2000x500 with 1 Axes>"
            ],
            "image/png": "[encoded data removed]"
          },
          "metadata": {}
        }
      ]
    },
    {
      "cell_type": "markdown",
      "source": [
        "Attacks based on attack type"
      ],
      "metadata": {
        "id": "XHM3-wkhs6nh"
      }
    },
    {
      "cell_type": "code",
      "source": [
        "plt.figure(figsize=(25,5));\n",
        "plt.rcParams.update({'font.size':15});\n",
        "plt.xticks(rotation = 90)\n",
        "plt.title('Based on Attack type', fontsize = 25)\n",
        "sns.countplot(x=terrorism_df.Attack_type);"
      ],
      "metadata": {
        "colab": {
          "base_uri": "https://localhost:8080/",
          "height": 604
        },
        "id": "QjDLoO_cs8GU",
        "outputId": "e4fd040b-9d92-4c4a-9d23-77c028d833ea"
      },
      "execution_count": 55,
      "outputs": [
        {
          "output_type": "display_data",
          "data": {
            "text/plain": [
              "<Figure size 2500x500 with 1 Axes>"
            ],
            "image/png": "[encoded data removed]"
          },
          "metadata": {}
        }
      ]
    },
    {
      "cell_type": "markdown",
      "source": [
        "**Result of Analysis**\n",
        "\n",
        "After observing different graphs, we obtained the following results:\n",
        "\n",
        "Explosive : Most used weapon type in attacks\n",
        "\n",
        "2014 : Most number of attacks year\n",
        "\n",
        "5th month(May) : Most number of attacks month\n",
        "\n",
        "15th day of month : Most number of attacks day\n",
        "\n",
        "Iraq : Most attacked country\n",
        "\n",
        "Baghdad : Most attacked State\n",
        "\n",
        "Middle East and North America : Most attacked region\n",
        "\n",
        "Private Citizens and Property : Most attack based on target type\n",
        "\n",
        "Bombing /Explosion : Most attack based on attack type\n",
        "\n",
        "**Security issues and insight from the EDA**\n",
        "\n",
        "\n",
        "From above result of analysis it is clear that explosive is the most used weapon type in the attacks. And keeping track of other result. Following measures can be adopted to reduce the number of attacks and terrorism.\n",
        "\n",
        "The government should firmly tighten border security\n",
        "\n",
        "Strict immigration laws and regulations should be put in place.\n",
        "\n",
        "It is important to restrict access to lethal weapons.\n",
        "\n",
        "States should ensure their internal security."
      ],
      "metadata": {
        "id": "vjjNZJ1PtIEc"
      }
    }
  ]
}